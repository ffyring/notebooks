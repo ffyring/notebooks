{
 "cells": [
  {
   "cell_type": "code",
   "execution_count": 1,
   "metadata": {
    "ExecuteTime": {
     "end_time": "2021-11-15T14:07:04.835910Z",
     "start_time": "2021-11-15T14:06:46.269975Z"
    },
    "execution": {
     "iopub.execute_input": "2022-12-01T07:49:25.801269Z",
     "iopub.status.busy": "2022-12-01T07:49:25.801269Z",
     "iopub.status.idle": "2022-12-01T07:49:26.681188Z",
     "shell.execute_reply": "2022-12-01T07:49:26.681188Z",
     "shell.execute_reply.started": "2022-12-01T07:49:25.801269Z"
    },
    "tags": []
   },
   "outputs": [],
   "source": [
    "import matplotlib.pyplot as plt\n",
    "import numpy as np"
   ]
  },
  {
   "cell_type": "markdown",
   "metadata": {
    "execution": {
     "iopub.execute_input": "2022-12-14T08:57:27.356021Z",
     "iopub.status.busy": "2022-12-14T08:57:27.356021Z",
     "iopub.status.idle": "2022-12-14T08:57:27.360796Z",
     "shell.execute_reply": "2022-12-14T08:57:27.360796Z",
     "shell.execute_reply.started": "2022-12-14T08:57:27.356021Z"
    }
   },
   "source": [
    "Rayleighs densitetsfunktion ser ut som\n",
    "$f(x;b) = (x/b^2) * exp(-x^2/(2b^2))$\n",
    "\n",
    "Ponera att vi har en mängd observationer på en variabel och vi vill minsta-kvadrat-estimera vad b är. Vi kan börja med att numeriskt ta fram lite Rayleigh(1)-distribuerade variabler och plotta dem"
   ]
  },
  {
   "cell_type": "code",
   "execution_count": 87,
   "metadata": {
    "execution": {
     "iopub.execute_input": "2022-12-14T10:07:04.634909Z",
     "iopub.status.busy": "2022-12-14T10:07:04.634909Z",
     "iopub.status.idle": "2022-12-14T10:07:04.819639Z",
     "shell.execute_reply": "2022-12-14T10:07:04.819639Z",
     "shell.execute_reply.started": "2022-12-14T10:07:04.634909Z"
    },
    "tags": []
   },
   "outputs": [
    {
     "name": "stdout",
     "output_type": "stream",
     "text": [
      "Sannolikheten ska summera till 100%. Den summerade till 100.00%\n"
     ]
    },
    {
     "data": {
      "image/png": "[encoded data removed]",
      "text/plain": [
       "<Figure size 640x480 with 1 Axes>"
      ]
     },
     "metadata": {},
     "output_type": "display_data"
    }
   ],
   "source": [
    "import numpy as np\n",
    "import matplotlib.pyplot as plt\n",
    "# Definera Rayleighs täthetsfunktion\n",
    "\n",
    "# Gör N stycken slumpmässiga punkter. Gör dem som magnituden (längden) av en slumpmässig tvådimensionell vektor\n",
    "# där båda riktningarna är normalfördelade N(0,1)\n",
    "N = 10000\n",
    "yh = np.sqrt(np.random.randn(N)**2 + np.random.randn(N)**2)\n",
    "# Plotta histogrammet hur y är fördelad\n",
    "num_bins=50\n",
    "plt.hist(yh,bins=num_bins, alpha=0.5);\n",
    "# Räkna ut Rayleigh-funktionen för x. Vi gör det numeriskt så vi tar lite punkter i (0,2pi] med dx mellan dem.\n",
    "def f(x,b):\n",
    "    return x/b**2*np.exp(-x**2/(2*b**2))\n",
    "dx = 0.01\n",
    "x = np.arange(dx, 2*np.pi, dx)\n",
    "#b = np.sqrt(np.sum(yh**2) / len(yh)) # ML-estimeringen av b\n",
    "b = 1  # Varför inte ML?\n",
    "y = f(x, b)\n",
    "# Plotta ut vår funktion på samma graf. Vi använder ML-skattningen av b som vi räknade ut innan. \n",
    "# Det är bara för att se hur bra ML-skattningen var. Vi har ju räknat ut histogram för N värden så vi\n",
    "# måste räkna ut hur breda binsen är i histogrammet och multiplicera med det.\n",
    "bin_width = (yh.max() - yh.min()) / num_bins\n",
    "plt.plot(x, y*N*bin_width);\n",
    "plt.legend(['Teoretisk distribution', 'Slumpade värden'])\n",
    "# Sannolikheten ska summera till 100% med tillräckligt små dx\n",
    "print(f'Sannolikheten ska summera till 100%. Den summerade till {sum(f(x, b)*dx)*100:.2f}%')"
   ]
  },
  {
   "cell_type": "markdown",
   "metadata": {
    "execution": {
     "iopub.execute_input": "2022-12-14T09:54:42.614951Z",
     "iopub.status.busy": "2022-12-14T09:54:42.614951Z",
     "iopub.status.idle": "2022-12-14T09:54:42.619908Z",
     "shell.execute_reply": "2022-12-14T09:54:42.619908Z",
     "shell.execute_reply.started": "2022-12-14T09:54:42.614951Z"
    },
    "tags": []
   },
   "source": [
    "Vi kan göra en Minsta-kvadratskattning av B också. Om vi har våra yh (slumpade) så vill vi hitta b som minimerar\n",
    "\n",
    "$error = ||y - yh||_2$\n",
    "\n",
    "eller utskrivet minimera med avseende på b\n",
    "$error = \\sqrt{\\sum{(f(x;b)-yh})^2} $"
   ]
  },
  {
   "cell_type": "code",
   "execution_count": 85,
   "metadata": {
    "execution": {
     "iopub.execute_input": "2022-12-14T10:05:43.252705Z",
     "iopub.status.busy": "2022-12-14T10:05:43.251705Z",
     "iopub.status.idle": "2022-12-14T10:05:43.257260Z",
     "shell.execute_reply": "2022-12-14T10:05:43.257260Z",
     "shell.execute_reply.started": "2022-12-14T10:05:43.252705Z"
    },
    "tags": []
   },
   "outputs": [
    {
     "data": {
      "text/plain": [
       "\u001b[1;31mSignature:\u001b[0m\n",
       "\u001b[0mplt\u001b[0m\u001b[1;33m.\u001b[0m\u001b[0mhist\u001b[0m\u001b[1;33m(\u001b[0m\u001b[1;33m\n",
       "\u001b[0m    \u001b[0mx\u001b[0m\u001b[1;33m,\u001b[0m\u001b[1;33m\n",
       "\u001b[0m    \u001b[0mbins\u001b[0m\u001b[1;33m=\u001b[0m\u001b[1;32mNone\u001b[0m\u001b[1;33m,\u001b[0m\u001b[1;33m\n",
       "\u001b[0m    \u001b[0mrange\u001b[0m\u001b[1;33m=\u001b[0m\u001b[1;32mNone\u001b[0m\u001b[1;33m,\u001b[0m\u001b[1;33m\n",
       "\u001b[0m    \u001b[0mdensity\u001b[0m\u001b[1;33m=\u001b[0m\u001b[1;32mFalse\u001b[0m\u001b[1;33m,\u001b[0m\u001b[1;33m\n",
       "\u001b[0m    \u001b[0mweights\u001b[0m\u001b[1;33m=\u001b[0m\u001b[1;32mNone\u001b[0m\u001b[1;33m,\u001b[0m\u001b[1;33m\n",
       "\u001b[0m    \u001b[0mcumulative\u001b[0m\u001b[1;33m=\u001b[0m\u001b[1;32mFalse\u001b[0m\u001b[1;33m,\u001b[0m\u001b[1;33m\n",
       "\u001b[0m    \u001b[0mbottom\u001b[0m\u001b[1;33m=\u001b[0m\u001b[1;32mNone\u001b[0m\u001b[1;33m,\u001b[0m\u001b[1;33m\n",
       "\u001b[0m    \u001b[0mhisttype\u001b[0m\u001b[1;33m=\u001b[0m\u001b[1;34m'bar'\u001b[0m\u001b[1;33m,\u001b[0m\u001b[1;33m\n",
       "\u001b[0m    \u001b[0malign\u001b[0m\u001b[1;33m=\u001b[0m\u001b[1;34m'mid'\u001b[0m\u001b[1;33m,\u001b[0m\u001b[1;33m\n",
       "\u001b[0m    \u001b[0morientation\u001b[0m\u001b[1;33m=\u001b[0m\u001b[1;34m'vertical'\u001b[0m\u001b[1;33m,\u001b[0m\u001b[1;33m\n",
       "\u001b[0m    \u001b[0mrwidth\u001b[0m\u001b[1;33m=\u001b[0m\u001b[1;32mNone\u001b[0m\u001b[1;33m,\u001b[0m\u001b[1;33m\n",
       "\u001b[0m    \u001b[0mlog\u001b[0m\u001b[1;33m=\u001b[0m\u001b[1;32mFalse\u001b[0m\u001b[1;33m,\u001b[0m\u001b[1;33m\n",
       "\u001b[0m    \u001b[0mcolor\u001b[0m\u001b[1;33m=\u001b[0m\u001b[1;32mNone\u001b[0m\u001b[1;33m,\u001b[0m\u001b[1;33m\n",
       "\u001b[0m    \u001b[0mlabel\u001b[0m\u001b[1;33m=\u001b[0m\u001b[1;32mNone\u001b[0m\u001b[1;33m,\u001b[0m\u001b[1;33m\n",
       "\u001b[0m    \u001b[0mstacked\u001b[0m\u001b[1;33m=\u001b[0m\u001b[1;32mFalse\u001b[0m\u001b[1;33m,\u001b[0m\u001b[1;33m\n",
       "\u001b[0m    \u001b[1;33m*\u001b[0m\u001b[1;33m,\u001b[0m\u001b[1;33m\n",
       "\u001b[0m    \u001b[0mdata\u001b[0m\u001b[1;33m=\u001b[0m\u001b[1;32mNone\u001b[0m\u001b[1;33m,\u001b[0m\u001b[1;33m\n",
       "\u001b[0m    \u001b[1;33m**\u001b[0m\u001b[0mkwargs\u001b[0m\u001b[1;33m,\u001b[0m\u001b[1;33m\n",
       "\u001b[0m\u001b[1;33m)\u001b[0m\u001b[1;33m\u001b[0m\u001b[1;33m\u001b[0m\u001b[0m\n",
       "\u001b[1;31mDocstring:\u001b[0m\n",
       "Compute and plot a histogram.\n",
       "\n",
       "This method uses `numpy.histogram` to bin the data in *x* and count the\n",
       "number of values in each bin, then draws the distribution either as a\n",
       "`.BarContainer` or `.Polygon`. The *bins*, *range*, *density*, and\n",
       "*weights* parameters are forwarded to `numpy.histogram`.\n",
       "\n",
       "If the data has already been binned and counted, use `~.bar` or\n",
       "`~.stairs` to plot the distribution::\n",
       "\n",
       "    counts, bins = np.histogram(x)\n",
       "    plt.stairs(counts, bins)\n",
       "\n",
       "Alternatively, plot pre-computed bins and counts using ``hist()`` by\n",
       "treating each bin as a single point with a weight equal to its count::\n",
       "\n",
       "    plt.hist(bins[:-1], bins, weights=counts)\n",
       "\n",
       "The data input *x* can be a singular array, a list of datasets of\n",
       "potentially different lengths ([*x0*, *x1*, ...]), or a 2D ndarray in\n",
       "which each column is a dataset. Note that the ndarray form is\n",
       "transposed relative to the list form. If the input is an array, then\n",
       "the return value is a tuple (*n*, *bins*, *patches*); if the input is a\n",
       "sequence of arrays, then the return value is a tuple\n",
       "([*n0*, *n1*, ...], *bins*, [*patches0*, *patches1*, ...]).\n",
       "\n",
       "Masked arrays are not supported.\n",
       "\n",
       "Parameters\n",
       "----------\n",
       "x : (n,) array or sequence of (n,) arrays\n",
       "    Input values, this takes either a single array or a sequence of\n",
       "    arrays which are not required to be of the same length.\n",
       "\n",
       "bins : int or sequence or str, default: :rc:`hist.bins`\n",
       "    If *bins* is an integer, it defines the number of equal-width bins\n",
       "    in the range.\n",
       "\n",
       "    If *bins* is a sequence, it defines the bin edges, including the\n",
       "    left edge of the first bin and the right edge of the last bin;\n",
       "    in this case, bins may be unequally spaced.  All but the last\n",
       "    (righthand-most) bin is half-open.  In other words, if *bins* is::\n",
       "\n",
       "        [1, 2, 3, 4]\n",
       "\n",
       "    then the first bin is ``[1, 2)`` (including 1, but excluding 2) and\n",
       "    the second ``[2, 3)``.  The last bin, however, is ``[3, 4]``, which\n",
       "    *includes* 4.\n",
       "\n",
       "    If *bins* is a string, it is one of the binning strategies\n",
       "    supported by `numpy.histogram_bin_edges`: 'auto', 'fd', 'doane',\n",
       "    'scott', 'stone', 'rice', 'sturges', or 'sqrt'.\n",
       "\n",
       "range : tuple or None, default: None\n",
       "    The lower and upper range of the bins. Lower and upper outliers\n",
       "    are ignored. If not provided, *range* is ``(x.min(), x.max())``.\n",
       "    Range has no effect if *bins* is a sequence.\n",
       "\n",
       "    If *bins* is a sequence or *range* is specified, autoscaling\n",
       "    is based on the specified bin range instead of the\n",
       "    range of x.\n",
       "\n",
       "density : bool, default: False\n",
       "    If ``True``, draw and return a probability density: each bin\n",
       "    will display the bin's raw count divided by the total number of\n",
       "    counts *and the bin width*\n",
       "    (``density = counts / (sum(counts) * np.diff(bins))``),\n",
       "    so that the area under the histogram integrates to 1\n",
       "    (``np.sum(density * np.diff(bins)) == 1``).\n",
       "\n",
       "    If *stacked* is also ``True``, the sum of the histograms is\n",
       "    normalized to 1.\n",
       "\n",
       "weights : (n,) array-like or None, default: None\n",
       "    An array of weights, of the same shape as *x*.  Each value in\n",
       "    *x* only contributes its associated weight towards the bin count\n",
       "    (instead of 1).  If *density* is ``True``, the weights are\n",
       "    normalized, so that the integral of the density over the range\n",
       "    remains 1.\n",
       "\n",
       "cumulative : bool or -1, default: False\n",
       "    If ``True``, then a histogram is computed where each bin gives the\n",
       "    counts in that bin plus all bins for smaller values. The last bin\n",
       "    gives the total number of datapoints.\n",
       "\n",
       "    If *density* is also ``True`` then the histogram is normalized such\n",
       "    that the last bin equals 1.\n",
       "\n",
       "    If *cumulative* is a number less than 0 (e.g., -1), the direction\n",
       "    of accumulation is reversed.  In this case, if *density* is also\n",
       "    ``True``, then the histogram is normalized such that the first bin\n",
       "    equals 1.\n",
       "\n",
       "bottom : array-like, scalar, or None, default: None\n",
       "    Location of the bottom of each bin, ie. bins are drawn from\n",
       "    ``bottom`` to ``bottom + hist(x, bins)`` If a scalar, the bottom\n",
       "    of each bin is shifted by the same amount. If an array, each bin\n",
       "    is shifted independently and the length of bottom must match the\n",
       "    number of bins. If None, defaults to 0.\n",
       "\n",
       "histtype : {'bar', 'barstacked', 'step', 'stepfilled'}, default: 'bar'\n",
       "    The type of histogram to draw.\n",
       "\n",
       "    - 'bar' is a traditional bar-type histogram.  If multiple data\n",
       "      are given the bars are arranged side by side.\n",
       "    - 'barstacked' is a bar-type histogram where multiple\n",
       "      data are stacked on top of each other.\n",
       "    - 'step' generates a lineplot that is by default unfilled.\n",
       "    - 'stepfilled' generates a lineplot that is by default filled.\n",
       "\n",
       "align : {'left', 'mid', 'right'}, default: 'mid'\n",
       "    The horizontal alignment of the histogram bars.\n",
       "\n",
       "    - 'left': bars are centered on the left bin edges.\n",
       "    - 'mid': bars are centered between the bin edges.\n",
       "    - 'right': bars are centered on the right bin edges.\n",
       "\n",
       "orientation : {'vertical', 'horizontal'}, default: 'vertical'\n",
       "    If 'horizontal', `~.Axes.barh` will be used for bar-type histograms\n",
       "    and the *bottom* kwarg will be the left edges.\n",
       "\n",
       "rwidth : float or None, default: None\n",
       "    The relative width of the bars as a fraction of the bin width.  If\n",
       "    ``None``, automatically compute the width.\n",
       "\n",
       "    Ignored if *histtype* is 'step' or 'stepfilled'.\n",
       "\n",
       "log : bool, default: False\n",
       "    If ``True``, the histogram axis will be set to a log scale.\n",
       "\n",
       "color : color or array-like of colors or None, default: None\n",
       "    Color or sequence of colors, one per dataset.  Default (``None``)\n",
       "    uses the standard line color sequence.\n",
       "\n",
       "label : str or None, default: None\n",
       "    String, or sequence of strings to match multiple datasets.  Bar\n",
       "    charts yield multiple patches per dataset, but only the first gets\n",
       "    the label, so that `~.Axes.legend` will work as expected.\n",
       "\n",
       "stacked : bool, default: False\n",
       "    If ``True``, multiple data are stacked on top of each other If\n",
       "    ``False`` multiple data are arranged side by side if histtype is\n",
       "    'bar' or on top of each other if histtype is 'step'\n",
       "\n",
       "Returns\n",
       "-------\n",
       "n : array or list of arrays\n",
       "    The values of the histogram bins. See *density* and *weights* for a\n",
       "    description of the possible semantics.  If input *x* is an array,\n",
       "    then this is an array of length *nbins*. If input is a sequence of\n",
       "    arrays ``[data1, data2, ...]``, then this is a list of arrays with\n",
       "    the values of the histograms for each of the arrays in the same\n",
       "    order.  The dtype of the array *n* (or of its element arrays) will\n",
       "    always be float even if no weighting or normalization is used.\n",
       "\n",
       "bins : array\n",
       "    The edges of the bins. Length nbins + 1 (nbins left edges and right\n",
       "    edge of last bin).  Always a single array even when multiple data\n",
       "    sets are passed in.\n",
       "\n",
       "patches : `.BarContainer` or list of a single `.Polygon` or list of such objects\n",
       "    Container of individual artists used to create the histogram\n",
       "    or list of such containers if there are multiple input datasets.\n",
       "\n",
       "Other Parameters\n",
       "----------------\n",
       "data : indexable object, optional\n",
       "    If given, the following parameters also accept a string ``s``, which is\n",
       "    interpreted as ``data[s]`` (unless this raises an exception):\n",
       "\n",
       "    *x*, *weights*\n",
       "\n",
       "**kwargs\n",
       "    `~matplotlib.patches.Patch` properties\n",
       "\n",
       "See Also\n",
       "--------\n",
       "hist2d : 2D histogram with rectangular bins\n",
       "hexbin : 2D histogram with hexagonal bins\n",
       "\n",
       "Notes\n",
       "-----\n",
       "For large numbers of bins (>1000), plotting can be significantly faster\n",
       "if *histtype* is set to 'step' or 'stepfilled' rather than 'bar' or\n",
       "'barstacked'.\n",
       "\u001b[1;31mFile:\u001b[0m      c:\\users\\p901fyf\\.conda\\envs\\py311\\lib\\site-packages\\matplotlib\\pyplot.py\n",
       "\u001b[1;31mType:\u001b[0m      function\n"
      ]
     },
     "metadata": {},
     "output_type": "display_data"
    }
   ],
   "source": [
    "plt.hist?"
   ]
  },
  {
   "cell_type": "code",
   "execution_count": 76,
   "metadata": {
    "execution": {
     "iopub.execute_input": "2022-12-14T09:55:27.273850Z",
     "iopub.status.busy": "2022-12-14T09:55:27.272854Z",
     "iopub.status.idle": "2022-12-14T09:55:27.277749Z",
     "shell.execute_reply": "2022-12-14T09:55:27.277749Z",
     "shell.execute_reply.started": "2022-12-14T09:55:27.273850Z"
    },
    "tags": []
   },
   "outputs": [
    {
     "data": {
      "text/plain": [
       "1.4078628452551207"
      ]
     },
     "execution_count": 76,
     "metadata": {},
     "output_type": "execute_result"
    }
   ],
   "source": [
    "np.sqrt(np.sum(y**2)/len(y))"
   ]
  },
  {
   "cell_type": "code",
   "execution_count": 77,
   "metadata": {
    "execution": {
     "iopub.execute_input": "2022-12-14T09:55:46.036736Z",
     "iopub.status.busy": "2022-12-14T09:55:46.036736Z",
     "iopub.status.idle": "2022-12-14T09:55:46.040768Z",
     "shell.execute_reply": "2022-12-14T09:55:46.040768Z",
     "shell.execute_reply.started": "2022-12-14T09:55:46.036736Z"
    },
    "tags": []
   },
   "outputs": [
    {
     "data": {
      "text/plain": [
       "0.9156981599999999"
      ]
     },
     "execution_count": 77,
     "metadata": {},
     "output_type": "execute_result"
    }
   ],
   "source": []
  },
  {
   "cell_type": "code",
   "execution_count": 72,
   "metadata": {
    "execution": {
     "iopub.execute_input": "2022-12-08T11:18:06.059859Z",
     "iopub.status.busy": "2022-12-08T11:18:06.058865Z",
     "iopub.status.idle": "2022-12-08T11:18:06.065703Z",
     "shell.execute_reply": "2022-12-08T11:18:06.065703Z",
     "shell.execute_reply.started": "2022-12-08T11:18:06.059859Z"
    },
    "tags": []
   },
   "outputs": [
    {
     "data": {
      "text/html": [
       "<div>\n",
       "<style scoped>\n",
       "    .dataframe tbody tr th:only-of-type {\n",
       "        vertical-align: middle;\n",
       "    }\n",
       "\n",
       "    .dataframe tbody tr th {\n",
       "        vertical-align: top;\n",
       "    }\n",
       "\n",
       "    .dataframe thead th {\n",
       "        text-align: right;\n",
       "    }\n",
       "</style>\n",
       "<table border=\"1\" class=\"dataframe\">\n",
       "  <thead>\n",
       "    <tr style=\"text-align: right;\">\n",
       "      <th></th>\n",
       "      <th>hello_there</th>\n",
       "      <th>Data</th>\n",
       "      <th>Value</th>\n",
       "    </tr>\n",
       "  </thead>\n",
       "  <tbody>\n",
       "    <tr>\n",
       "      <th>0</th>\n",
       "      <td>0</td>\n",
       "      <td>a</td>\n",
       "      <td>10</td>\n",
       "    </tr>\n",
       "    <tr>\n",
       "      <th>1</th>\n",
       "      <td>1</td>\n",
       "      <td>b</td>\n",
       "      <td>20</td>\n",
       "    </tr>\n",
       "    <tr>\n",
       "      <th>2</th>\n",
       "      <td>2</td>\n",
       "      <td>c</td>\n",
       "      <td>30</td>\n",
       "    </tr>\n",
       "    <tr>\n",
       "      <th>3</th>\n",
       "      <td>3</td>\n",
       "      <td>d</td>\n",
       "      <td>40</td>\n",
       "    </tr>\n",
       "  </tbody>\n",
       "</table>\n",
       "</div>"
      ],
      "text/plain": [
       "   hello_there Data  Value\n",
       "0            0    a     10\n",
       "1            1    b     20\n",
       "2            2    c     30\n",
       "3            3    d     40"
      ]
     },
     "execution_count": 72,
     "metadata": {},
     "output_type": "execute_result"
    }
   ],
   "source": [
    "#df.to_parquet('fs.parquet')\n",
    "df.index.name = 'hello_there'\n",
    "df.reset_index()"
   ]
  },
  {
   "cell_type": "code",
   "execution_count": 64,
   "metadata": {
    "execution": {
     "iopub.execute_input": "2022-12-08T10:54:17.556716Z",
     "iopub.status.busy": "2022-12-08T10:54:17.556716Z",
     "iopub.status.idle": "2022-12-08T10:54:17.560949Z",
     "shell.execute_reply": "2022-12-08T10:54:17.560949Z",
     "shell.execute_reply.started": "2022-12-08T10:54:17.556716Z"
    },
    "tags": []
   },
   "outputs": [
    {
     "data": {
      "text/plain": [
       "[{'index': 0, 'Data': 'a', 'Value': 10},\n",
       " {'index': 1, 'Data': 'b', 'Value': 20},\n",
       " {'index': 2, 'Data': 'c', 'Value': 30},\n",
       " {'index': 3, 'Data': 'd', 'Value': 40}]"
      ]
     },
     "execution_count": 64,
     "metadata": {},
     "output_type": "execute_result"
    }
   ],
   "source": [
    "df.reset_index().to_dict('records')"
   ]
  },
  {
   "cell_type": "code",
   "execution_count": 53,
   "metadata": {
    "execution": {
     "iopub.execute_input": "2022-12-08T10:32:43.283115Z",
     "iopub.status.busy": "2022-12-08T10:32:43.283115Z",
     "iopub.status.idle": "2022-12-08T10:32:43.384629Z",
     "shell.execute_reply": "2022-12-08T10:32:43.384629Z",
     "shell.execute_reply.started": "2022-12-08T10:32:43.283115Z"
    },
    "tags": []
   },
   "outputs": [
    {
     "name": "stderr",
     "output_type": "stream",
     "text": [
      "C:\\Users\\p901fyf\\AppData\\Local\\Temp\\ipykernel_12328\\2985053382.py:3: UserWarning: pandas only supports SQLAlchemy connectable (engine/connection) or database string URI or sqlite3 DBAPI2 connection. Other DBAPI2 objects are not tested. Please consider using SQLAlchemy.\n",
      "  df2.to_sql(\"testtable.parquet\", schema=\"testschema\",con=con)\n"
     ]
    },
    {
     "ename": "TransactionException",
     "evalue": "TransactionContext Error: cannot rollback - no transaction is active",
     "output_type": "error",
     "traceback": [
      "\u001b[1;31m---------------------------------------------------------------------------\u001b[0m",
      "\u001b[1;31mAttributeError\u001b[0m                            Traceback (most recent call last)",
      "File \u001b[1;32m~\\.conda\\envs\\py311\\Lib\\site-packages\\pandas\\io\\sql.py:2007\u001b[0m, in \u001b[0;36mSQLiteDatabase.run_transaction\u001b[1;34m(self)\u001b[0m\n\u001b[0;32m   2006\u001b[0m \u001b[38;5;28;01mtry\u001b[39;00m:\n\u001b[1;32m-> 2007\u001b[0m     \u001b[38;5;28;01myield\u001b[39;00m cur\n\u001b[0;32m   2008\u001b[0m     \u001b[38;5;28mself\u001b[39m\u001b[38;5;241m.\u001b[39mcon\u001b[38;5;241m.\u001b[39mcommit()\n",
      "File \u001b[1;32m~\\.conda\\envs\\py311\\Lib\\site-packages\\pandas\\io\\sql.py:946\u001b[0m, in \u001b[0;36mSQLTable.insert\u001b[1;34m(self, chunksize, method)\u001b[0m\n\u001b[0;32m    945\u001b[0m chunk_iter \u001b[38;5;241m=\u001b[39m \u001b[38;5;28mzip\u001b[39m(\u001b[38;5;241m*\u001b[39m(arr[start_i:end_i] \u001b[38;5;28;01mfor\u001b[39;00m arr \u001b[38;5;129;01min\u001b[39;00m data_list))\n\u001b[1;32m--> 946\u001b[0m num_inserted \u001b[38;5;241m=\u001b[39m \u001b[43mexec_insert\u001b[49m\u001b[43m(\u001b[49m\u001b[43mconn\u001b[49m\u001b[43m,\u001b[49m\u001b[43m \u001b[49m\u001b[43mkeys\u001b[49m\u001b[43m,\u001b[49m\u001b[43m \u001b[49m\u001b[43mchunk_iter\u001b[49m\u001b[43m)\u001b[49m\n\u001b[0;32m    947\u001b[0m \u001b[38;5;66;03m# GH 46891\u001b[39;00m\n",
      "File \u001b[1;32m~\\.conda\\envs\\py311\\Lib\\site-packages\\pandas\\io\\sql.py:1895\u001b[0m, in \u001b[0;36mSQLiteTable._execute_insert\u001b[1;34m(self, conn, keys, data_iter)\u001b[0m\n\u001b[0;32m   1894\u001b[0m conn\u001b[38;5;241m.\u001b[39mexecutemany(\u001b[38;5;28mself\u001b[39m\u001b[38;5;241m.\u001b[39minsert_statement(num_rows\u001b[38;5;241m=\u001b[39m\u001b[38;5;241m1\u001b[39m), data_list)\n\u001b[1;32m-> 1895\u001b[0m \u001b[38;5;28;01mreturn\u001b[39;00m \u001b[43mconn\u001b[49m\u001b[38;5;241;43m.\u001b[39;49m\u001b[43mrowcount\u001b[49m\n",
      "\u001b[1;31mAttributeError\u001b[0m: 'duckdb.DuckDBPyConnection' object has no attribute 'rowcount'",
      "\nDuring handling of the above exception, another exception occurred:\n",
      "\u001b[1;31mTransactionException\u001b[0m                      Traceback (most recent call last)",
      "Cell \u001b[1;32mIn[53], line 3\u001b[0m\n\u001b[0;32m      1\u001b[0m con \u001b[38;5;241m=\u001b[39m duckdb\u001b[38;5;241m.\u001b[39mconnect()\n\u001b[0;32m      2\u001b[0m df2 \u001b[38;5;241m=\u001b[39m con\u001b[38;5;241m.\u001b[39mquery(\u001b[38;5;124m\"\u001b[39m\u001b[38;5;124mSELECT * from df WHERE Value>20\u001b[39m\u001b[38;5;124m\"\u001b[39m)\u001b[38;5;241m.\u001b[39mto_df()\n\u001b[1;32m----> 3\u001b[0m \u001b[43mdf2\u001b[49m\u001b[38;5;241;43m.\u001b[39;49m\u001b[43mto_sql\u001b[49m\u001b[43m(\u001b[49m\u001b[38;5;124;43m\"\u001b[39;49m\u001b[38;5;124;43mtesttable.parquet\u001b[39;49m\u001b[38;5;124;43m\"\u001b[39;49m\u001b[43m,\u001b[49m\u001b[43m \u001b[49m\u001b[43mschema\u001b[49m\u001b[38;5;241;43m=\u001b[39;49m\u001b[38;5;124;43m\"\u001b[39;49m\u001b[38;5;124;43mtestschema\u001b[39;49m\u001b[38;5;124;43m\"\u001b[39;49m\u001b[43m,\u001b[49m\u001b[43mcon\u001b[49m\u001b[38;5;241;43m=\u001b[39;49m\u001b[43mcon\u001b[49m\u001b[43m)\u001b[49m\n",
      "File \u001b[1;32m~\\.conda\\envs\\py311\\Lib\\site-packages\\pandas\\core\\generic.py:2987\u001b[0m, in \u001b[0;36mNDFrame.to_sql\u001b[1;34m(self, name, con, schema, if_exists, index, index_label, chunksize, dtype, method)\u001b[0m\n\u001b[0;32m   2830\u001b[0m \u001b[38;5;124;03m\"\"\"\u001b[39;00m\n\u001b[0;32m   2831\u001b[0m \u001b[38;5;124;03mWrite records stored in a DataFrame to a SQL database.\u001b[39;00m\n\u001b[0;32m   2832\u001b[0m \n\u001b[1;32m   (...)\u001b[0m\n\u001b[0;32m   2983\u001b[0m \u001b[38;5;124;03m[(1,), (None,), (2,)]\u001b[39;00m\n\u001b[0;32m   2984\u001b[0m \u001b[38;5;124;03m\"\"\"\u001b[39;00m  \u001b[38;5;66;03m# noqa:E501\u001b[39;00m\n\u001b[0;32m   2985\u001b[0m \u001b[38;5;28;01mfrom\u001b[39;00m \u001b[38;5;21;01mpandas\u001b[39;00m\u001b[38;5;21;01m.\u001b[39;00m\u001b[38;5;21;01mio\u001b[39;00m \u001b[38;5;28;01mimport\u001b[39;00m sql\n\u001b[1;32m-> 2987\u001b[0m \u001b[38;5;28;01mreturn\u001b[39;00m \u001b[43msql\u001b[49m\u001b[38;5;241;43m.\u001b[39;49m\u001b[43mto_sql\u001b[49m\u001b[43m(\u001b[49m\n\u001b[0;32m   2988\u001b[0m \u001b[43m    \u001b[49m\u001b[38;5;28;43mself\u001b[39;49m\u001b[43m,\u001b[49m\n\u001b[0;32m   2989\u001b[0m \u001b[43m    \u001b[49m\u001b[43mname\u001b[49m\u001b[43m,\u001b[49m\n\u001b[0;32m   2990\u001b[0m \u001b[43m    \u001b[49m\u001b[43mcon\u001b[49m\u001b[43m,\u001b[49m\n\u001b[0;32m   2991\u001b[0m \u001b[43m    \u001b[49m\u001b[43mschema\u001b[49m\u001b[38;5;241;43m=\u001b[39;49m\u001b[43mschema\u001b[49m\u001b[43m,\u001b[49m\n\u001b[0;32m   2992\u001b[0m \u001b[43m    \u001b[49m\u001b[43mif_exists\u001b[49m\u001b[38;5;241;43m=\u001b[39;49m\u001b[43mif_exists\u001b[49m\u001b[43m,\u001b[49m\n\u001b[0;32m   2993\u001b[0m \u001b[43m    \u001b[49m\u001b[43mindex\u001b[49m\u001b[38;5;241;43m=\u001b[39;49m\u001b[43mindex\u001b[49m\u001b[43m,\u001b[49m\n\u001b[0;32m   2994\u001b[0m \u001b[43m    \u001b[49m\u001b[43mindex_label\u001b[49m\u001b[38;5;241;43m=\u001b[39;49m\u001b[43mindex_label\u001b[49m\u001b[43m,\u001b[49m\n\u001b[0;32m   2995\u001b[0m \u001b[43m    \u001b[49m\u001b[43mchunksize\u001b[49m\u001b[38;5;241;43m=\u001b[39;49m\u001b[43mchunksize\u001b[49m\u001b[43m,\u001b[49m\n\u001b[0;32m   2996\u001b[0m \u001b[43m    \u001b[49m\u001b[43mdtype\u001b[49m\u001b[38;5;241;43m=\u001b[39;49m\u001b[43mdtype\u001b[49m\u001b[43m,\u001b[49m\n\u001b[0;32m   2997\u001b[0m \u001b[43m    \u001b[49m\u001b[43mmethod\u001b[49m\u001b[38;5;241;43m=\u001b[39;49m\u001b[43mmethod\u001b[49m\u001b[43m,\u001b[49m\n\u001b[0;32m   2998\u001b[0m \u001b[43m\u001b[49m\u001b[43m)\u001b[49m\n",
      "File \u001b[1;32m~\\.conda\\envs\\py311\\Lib\\site-packages\\pandas\\io\\sql.py:695\u001b[0m, in \u001b[0;36mto_sql\u001b[1;34m(frame, name, con, schema, if_exists, index, index_label, chunksize, dtype, method, engine, **engine_kwargs)\u001b[0m\n\u001b[0;32m    690\u001b[0m \u001b[38;5;28;01melif\u001b[39;00m \u001b[38;5;129;01mnot\u001b[39;00m \u001b[38;5;28misinstance\u001b[39m(frame, DataFrame):\n\u001b[0;32m    691\u001b[0m     \u001b[38;5;28;01mraise\u001b[39;00m \u001b[38;5;167;01mNotImplementedError\u001b[39;00m(\n\u001b[0;32m    692\u001b[0m         \u001b[38;5;124m\"\u001b[39m\u001b[38;5;124m'\u001b[39m\u001b[38;5;124mframe\u001b[39m\u001b[38;5;124m'\u001b[39m\u001b[38;5;124m argument should be either a Series or a DataFrame\u001b[39m\u001b[38;5;124m\"\u001b[39m\n\u001b[0;32m    693\u001b[0m     )\n\u001b[1;32m--> 695\u001b[0m \u001b[38;5;28;01mreturn\u001b[39;00m \u001b[43mpandas_sql\u001b[49m\u001b[38;5;241;43m.\u001b[39;49m\u001b[43mto_sql\u001b[49m\u001b[43m(\u001b[49m\n\u001b[0;32m    696\u001b[0m \u001b[43m    \u001b[49m\u001b[43mframe\u001b[49m\u001b[43m,\u001b[49m\n\u001b[0;32m    697\u001b[0m \u001b[43m    \u001b[49m\u001b[43mname\u001b[49m\u001b[43m,\u001b[49m\n\u001b[0;32m    698\u001b[0m \u001b[43m    \u001b[49m\u001b[43mif_exists\u001b[49m\u001b[38;5;241;43m=\u001b[39;49m\u001b[43mif_exists\u001b[49m\u001b[43m,\u001b[49m\n\u001b[0;32m    699\u001b[0m \u001b[43m    \u001b[49m\u001b[43mindex\u001b[49m\u001b[38;5;241;43m=\u001b[39;49m\u001b[43mindex\u001b[49m\u001b[43m,\u001b[49m\n\u001b[0;32m    700\u001b[0m \u001b[43m    \u001b[49m\u001b[43mindex_label\u001b[49m\u001b[38;5;241;43m=\u001b[39;49m\u001b[43mindex_label\u001b[49m\u001b[43m,\u001b[49m\n\u001b[0;32m    701\u001b[0m \u001b[43m    \u001b[49m\u001b[43mschema\u001b[49m\u001b[38;5;241;43m=\u001b[39;49m\u001b[43mschema\u001b[49m\u001b[43m,\u001b[49m\n\u001b[0;32m    702\u001b[0m \u001b[43m    \u001b[49m\u001b[43mchunksize\u001b[49m\u001b[38;5;241;43m=\u001b[39;49m\u001b[43mchunksize\u001b[49m\u001b[43m,\u001b[49m\n\u001b[0;32m    703\u001b[0m \u001b[43m    \u001b[49m\u001b[43mdtype\u001b[49m\u001b[38;5;241;43m=\u001b[39;49m\u001b[43mdtype\u001b[49m\u001b[43m,\u001b[49m\n\u001b[0;32m    704\u001b[0m \u001b[43m    \u001b[49m\u001b[43mmethod\u001b[49m\u001b[38;5;241;43m=\u001b[39;49m\u001b[43mmethod\u001b[49m\u001b[43m,\u001b[49m\n\u001b[0;32m    705\u001b[0m \u001b[43m    \u001b[49m\u001b[43mengine\u001b[49m\u001b[38;5;241;43m=\u001b[39;49m\u001b[43mengine\u001b[49m\u001b[43m,\u001b[49m\n\u001b[0;32m    706\u001b[0m \u001b[43m    \u001b[49m\u001b[38;5;241;43m*\u001b[39;49m\u001b[38;5;241;43m*\u001b[39;49m\u001b[43mengine_kwargs\u001b[49m\u001b[43m,\u001b[49m\n\u001b[0;32m    707\u001b[0m \u001b[43m\u001b[49m\u001b[43m)\u001b[49m\n",
      "File \u001b[1;32m~\\.conda\\envs\\py311\\Lib\\site-packages\\pandas\\io\\sql.py:2188\u001b[0m, in \u001b[0;36mSQLiteDatabase.to_sql\u001b[1;34m(self, frame, name, if_exists, index, index_label, schema, chunksize, dtype, method, **kwargs)\u001b[0m\n\u001b[0;32m   2178\u001b[0m table \u001b[38;5;241m=\u001b[39m SQLiteTable(\n\u001b[0;32m   2179\u001b[0m     name,\n\u001b[0;32m   2180\u001b[0m     \u001b[38;5;28mself\u001b[39m,\n\u001b[1;32m   (...)\u001b[0m\n\u001b[0;32m   2185\u001b[0m     dtype\u001b[38;5;241m=\u001b[39mdtype,\n\u001b[0;32m   2186\u001b[0m )\n\u001b[0;32m   2187\u001b[0m table\u001b[38;5;241m.\u001b[39mcreate()\n\u001b[1;32m-> 2188\u001b[0m \u001b[38;5;28;01mreturn\u001b[39;00m \u001b[43mtable\u001b[49m\u001b[38;5;241;43m.\u001b[39;49m\u001b[43minsert\u001b[49m\u001b[43m(\u001b[49m\u001b[43mchunksize\u001b[49m\u001b[43m,\u001b[49m\u001b[43m \u001b[49m\u001b[43mmethod\u001b[49m\u001b[43m)\u001b[49m\n",
      "File \u001b[1;32m~\\.conda\\envs\\py311\\Lib\\site-packages\\pandas\\io\\sql.py:938\u001b[0m, in \u001b[0;36mSQLTable.insert\u001b[1;34m(self, chunksize, method)\u001b[0m\n\u001b[0;32m    936\u001b[0m chunks \u001b[38;5;241m=\u001b[39m (nrows \u001b[38;5;241m/\u001b[39m\u001b[38;5;241m/\u001b[39m chunksize) \u001b[38;5;241m+\u001b[39m \u001b[38;5;241m1\u001b[39m\n\u001b[0;32m    937\u001b[0m total_inserted \u001b[38;5;241m=\u001b[39m \u001b[38;5;28;01mNone\u001b[39;00m\n\u001b[1;32m--> 938\u001b[0m \u001b[43m\u001b[49m\u001b[38;5;28;43;01mwith\u001b[39;49;00m\u001b[43m \u001b[49m\u001b[38;5;28;43mself\u001b[39;49m\u001b[38;5;241;43m.\u001b[39;49m\u001b[43mpd_sql\u001b[49m\u001b[38;5;241;43m.\u001b[39;49m\u001b[43mrun_transaction\u001b[49m\u001b[43m(\u001b[49m\u001b[43m)\u001b[49m\u001b[43m \u001b[49m\u001b[38;5;28;43;01mas\u001b[39;49;00m\u001b[43m \u001b[49m\u001b[43mconn\u001b[49m\u001b[43m:\u001b[49m\n\u001b[0;32m    939\u001b[0m \u001b[43m    \u001b[49m\u001b[38;5;28;43;01mfor\u001b[39;49;00m\u001b[43m \u001b[49m\u001b[43mi\u001b[49m\u001b[43m \u001b[49m\u001b[38;5;129;43;01min\u001b[39;49;00m\u001b[43m \u001b[49m\u001b[38;5;28;43mrange\u001b[39;49m\u001b[43m(\u001b[49m\u001b[43mchunks\u001b[49m\u001b[43m)\u001b[49m\u001b[43m:\u001b[49m\n\u001b[0;32m    940\u001b[0m \u001b[43m        \u001b[49m\u001b[43mstart_i\u001b[49m\u001b[43m \u001b[49m\u001b[38;5;241;43m=\u001b[39;49m\u001b[43m \u001b[49m\u001b[43mi\u001b[49m\u001b[43m \u001b[49m\u001b[38;5;241;43m*\u001b[39;49m\u001b[43m \u001b[49m\u001b[43mchunksize\u001b[49m\n",
      "File \u001b[1;32m~\\.conda\\envs\\py311\\Lib\\contextlib.py:155\u001b[0m, in \u001b[0;36m_GeneratorContextManager.__exit__\u001b[1;34m(self, typ, value, traceback)\u001b[0m\n\u001b[0;32m    153\u001b[0m     value \u001b[38;5;241m=\u001b[39m typ()\n\u001b[0;32m    154\u001b[0m \u001b[38;5;28;01mtry\u001b[39;00m:\n\u001b[1;32m--> 155\u001b[0m     \u001b[38;5;28mself\u001b[39m\u001b[38;5;241m.\u001b[39mgen\u001b[38;5;241m.\u001b[39mthrow(typ, value, traceback)\n\u001b[0;32m    156\u001b[0m \u001b[38;5;28;01mexcept\u001b[39;00m \u001b[38;5;167;01mStopIteration\u001b[39;00m \u001b[38;5;28;01mas\u001b[39;00m exc:\n\u001b[0;32m    157\u001b[0m     \u001b[38;5;66;03m# Suppress StopIteration *unless* it's the same exception that\u001b[39;00m\n\u001b[0;32m    158\u001b[0m     \u001b[38;5;66;03m# was passed to throw().  This prevents a StopIteration\u001b[39;00m\n\u001b[0;32m    159\u001b[0m     \u001b[38;5;66;03m# raised inside the \"with\" statement from being suppressed.\u001b[39;00m\n\u001b[0;32m    160\u001b[0m     \u001b[38;5;28;01mreturn\u001b[39;00m exc \u001b[38;5;129;01mis\u001b[39;00m \u001b[38;5;129;01mnot\u001b[39;00m value\n",
      "File \u001b[1;32m~\\.conda\\envs\\py311\\Lib\\site-packages\\pandas\\io\\sql.py:2010\u001b[0m, in \u001b[0;36mSQLiteDatabase.run_transaction\u001b[1;34m(self)\u001b[0m\n\u001b[0;32m   2008\u001b[0m     \u001b[38;5;28mself\u001b[39m\u001b[38;5;241m.\u001b[39mcon\u001b[38;5;241m.\u001b[39mcommit()\n\u001b[0;32m   2009\u001b[0m \u001b[38;5;28;01mexcept\u001b[39;00m \u001b[38;5;167;01mException\u001b[39;00m:\n\u001b[1;32m-> 2010\u001b[0m     \u001b[38;5;28;43mself\u001b[39;49m\u001b[38;5;241;43m.\u001b[39;49m\u001b[43mcon\u001b[49m\u001b[38;5;241;43m.\u001b[39;49m\u001b[43mrollback\u001b[49m\u001b[43m(\u001b[49m\u001b[43m)\u001b[49m\n\u001b[0;32m   2011\u001b[0m     \u001b[38;5;28;01mraise\u001b[39;00m\n\u001b[0;32m   2012\u001b[0m \u001b[38;5;28;01mfinally\u001b[39;00m:\n",
      "\u001b[1;31mTransactionException\u001b[0m: TransactionContext Error: cannot rollback - no transaction is active"
     ]
    }
   ],
   "source": [
    "con = duckdb.connect()\n",
    "df2 = con.query(\"SELECT * from df WHERE Value>20\").to_df()\n",
    "df2.to_sql(\"testtable.parquet\", schema=\"testschema\",con=con)"
   ]
  },
  {
   "cell_type": "code",
   "execution_count": 51,
   "metadata": {
    "execution": {
     "iopub.execute_input": "2022-12-08T10:21:02.861289Z",
     "iopub.status.busy": "2022-12-08T10:21:02.861289Z",
     "iopub.status.idle": "2022-12-08T10:21:02.866302Z",
     "shell.execute_reply": "2022-12-08T10:21:02.866302Z",
     "shell.execute_reply.started": "2022-12-08T10:21:02.861289Z"
    },
    "tags": []
   },
   "outputs": [
    {
     "data": {
      "text/plain": [
       "[('c', 30), ('d', 40)]"
      ]
     },
     "execution_count": 51,
     "metadata": {},
     "output_type": "execute_result"
    }
   ],
   "source": [
    "df3 = con.execute(\"SELECT * from df WHERE Value>20\").fetchall()\n",
    "df3"
   ]
  },
  {
   "cell_type": "code",
   "execution_count": 6,
   "metadata": {
    "execution": {
     "iopub.execute_input": "2022-12-07T08:17:37.907238Z",
     "iopub.status.busy": "2022-12-07T08:17:37.907238Z",
     "iopub.status.idle": "2022-12-07T08:17:37.911240Z",
     "shell.execute_reply": "2022-12-07T08:17:37.911240Z",
     "shell.execute_reply.started": "2022-12-07T08:17:37.907238Z"
    }
   },
   "outputs": [
    {
     "name": "stderr",
     "output_type": "stream",
     "text": [
      "INFO:root:test info\n",
      "ERROR:root:test error\n"
     ]
    }
   ],
   "source": [
    "logger.setLevel(log_config.logging.INFO)\n",
    "log_config.logging.info(f'test info')\n",
    "log_config.logging.error(f'test error')"
   ]
  },
  {
   "cell_type": "code",
   "execution_count": 3,
   "metadata": {
    "ExecuteTime": {
     "end_time": "2021-11-15T14:09:52.751278Z",
     "start_time": "2021-11-15T14:09:52.744277Z"
    },
    "execution": {
     "iopub.execute_input": "2022-11-02T09:04:13.208520Z",
     "iopub.status.busy": "2022-11-02T09:04:13.208520Z",
     "iopub.status.idle": "2022-11-02T09:04:13.217521Z",
     "shell.execute_reply": "2022-11-02T09:04:13.216571Z",
     "shell.execute_reply.started": "2022-11-02T09:04:13.208520Z"
    }
   },
   "outputs": [],
   "source": [
    "def option(strike, callflag):\n",
    "    \"\"\" return a call or put option\"\"\"\n",
    "    if callflag:\n",
    "        return lambda spot: np.maximum(spot-strike,0)\n",
    "    else:\n",
    "        return lambda spot: np.maximum(strike-spot,0)\n"
   ]
  },
  {
   "cell_type": "code",
   "execution_count": null,
   "metadata": {},
   "outputs": [],
   "source": []
  },
  {
   "cell_type": "code",
   "execution_count": 4,
   "metadata": {
    "execution": {
     "iopub.execute_input": "2022-12-01T07:50:58.620779Z",
     "iopub.status.busy": "2022-12-01T07:50:58.620779Z",
     "iopub.status.idle": "2022-12-01T07:50:58.628358Z",
     "shell.execute_reply": "2022-12-01T07:50:58.628358Z",
     "shell.execute_reply.started": "2022-12-01T07:50:58.620779Z"
    },
    "tags": []
   },
   "outputs": [
    {
     "name": "stdout",
     "output_type": "stream",
     "text": [
      "[2022-11-10 09:02:07] [info   ] [source\\utilities\\logger.cpp::SwedbankLib::Logging::MakeLogger::operator class boost::shared_ptr<class SwedbankLib::Logging::LoggerHandle>: 187]: Setting up file logger: C:/TEMP/P901FYF_2022-11-10T090200_API.LOG with severity trace\n",
      "\n",
      "[2022-11-10 09:02:07] [warning] SwedbankLib::MultiCurveCalculator::createSingleCurrencyTermStructures(): Setup failure for rate index SEK-STIBOR-3M with error:   source\\termstructures\\yield\\ratehelpermanager.cpp(916): SwedbankLib::ForwardRateHelper::getRateHelpers(): Empty short end (FRA/FUT).\n",
      "\n",
      "[2022-11-10 09:02:07] [info   ] [source\\utilities\\logger.cpp::SwedbankLib::Logging::MakeLogger::operator class boost::shared_ptr<class SwedbankLib::Logging::LoggerHandle>: 187]: Setting up file logger: C:/TEMP/P901FYF_2022-11-10T090200_API.LOG with severity trace\n",
      "\n",
      "[2022-11-10 09:02:07] [warning] SwedbankLib::MultiCurveCalculator::createSingleCurrencyTermStructures(): Setup failure for rate index SEK-STIBOR-3M with error:   source\\termstructures\\yield\\ratehelpermanager.cpp(916): SwedbankLib::ForwardRateHelper::getRateHelpers(): Empty short end (FRA/FUT).\n",
      "\n",
      "[2022-11-10 09:02:07] [info   ] Loaded 240 trades in 0.152s\n",
      "\n",
      "[2022-11-10 09:02:07] [info   ] Reference date November 10th, 2022\n",
      "\n",
      "[2022-11-10 09:02:07] [info   ] Curve generation mode MULTICURVEBOOTSTRAP\n",
      "\n",
      "[2022-11-10 09:02:07] [info   ] Leg representation mode CALYPSO_LEG_REPRESENTATION_MODE\n",
      "\n",
      "[2022-11-10 09:02:07] [info   ] Interpolation method type FXFI_TRADING_INTERPOLATION_METHOD\n",
      "\n",
      "[2022-11-10 09:02:07] [info   ] Discount triangulation type CROSS_CURRENCY_BASIS_TRIANGULATION\n",
      "\n",
      "[2022-11-10 09:02:07] [info   ] Single ccy discount parameter setup type TRADING_PRICING_DISCOUNT_CURVE_PARAMETER_SETUP\n",
      "\n",
      "[2022-11-10 09:02:07] [info   ] IR forward curve parameter setup type TRADING_PRICING_IR_FORWARD_CURVE_PARAMETER_SETUP\n",
      "\n",
      "[2022-11-10 09:02:07] [info   ] Cross currency discount parameter setup type DEFAULT_CROSS_CURRENCY_DISCOUNT_CURVE_PARAMETER_SETUP\n",
      "\n",
      "[2022-11-10 09:02:07] [error  ] SWAP/SEK-STIBOR-3M/10Y/10Y failed:   C:\\Working\\pricinglibrary\\Externals\\QuantLib\\ql/termstructures/iterativebootstrap.hpp(87): no bootstrap helpers given\n",
      "\n",
      "[2022-11-10 09:02:07] [error  ] SWAP/SEK-STIBOR-3M/10Y/12Y failed:   C:\\Working\\pricinglibrary\\Externals\\QuantLib\\ql/termstructures/iterativebootstrap.hpp(87): no bootstrap helpers given\n",
      "\n",
      "[2022-11-10 09:02:07] [error  ] SWAP/SEK-STIBOR-3M/10Y/15Y failed:   C:\\Working\\pricinglibrary\\Externals\\QuantLib\\ql/termstructures/iterativebootstrap.hpp(87): no bootstrap helpers given\n",
      "\n",
      "[2022-11-10 09:02:07] [error  ] SWAP/SEK-STIBOR-3M/10Y/1Y failed:   C:\\Working\\pricinglibrary\\Externals\\QuantLib\\ql/termstructures/iterativebootstrap.hpp(87): no bootstrap helpers given\n",
      "\n",
      "[2022-11-10 09:02:07] [error  ] SWAP/SEK-STIBOR-3M/10Y/20Y failed:   C:\\Working\\pricinglibrary\\Externals\\QuantLib\\ql/termstructures/iterativebootstrap.hpp(87): no bootstrap helpers given\n",
      "\n",
      "[2022-11-10 09:02:07] [error  ] SWAP/SEK-STIBOR-3M/10Y/25Y failed:   C:\\Working\\pricinglibrary\\Externals\\QuantLib\\ql/termstructures/iterativebootstrap.hpp(87): no bootstrap helpers given\n",
      "\n",
      "[2022-11-10 09:02:07] [error  ] SWAP/SEK-STIBOR-3M/10Y/2Y failed:   C:\\Working\\pricinglibrary\\Externals\\QuantLib\\ql/termstructures/iterativebootstrap.hpp(87): no bootstrap helpers given\n",
      "\n",
      "[2022-11-10 09:02:07] [error  ] SWAP/SEK-STIBOR-3M/10Y/30Y failed:   C:\\Working\\pricinglibrary\\Externals\\QuantLib\\ql/termstructures/iterativebootstrap.hpp(87): no bootstrap helpers given\n",
      "\n",
      "[2022-11-10 09:02:07] [error  ] SWAP/SEK-STIBOR-3M/10Y/3Y failed:   C:\\Working\\pricinglibrary\\Externals\\QuantLib\\ql/termstructures/iterativebootstrap.hpp(87): no bootstrap helpers given\n",
      "\n",
      "[2022-11-10 09:02:07] [error  ] SWAP/SEK-STIBOR-3M/10Y/4Y failed:   C:\\Working\\pricinglibrary\\Externals\\QuantLib\\ql/termstructures/iterativebootstrap.hpp(87): no bootstrap helpers given\n",
      "\n",
      "[2022-11-10 09:02:07] [error  ] SWAP/SEK-STIBOR-3M/10Y/5Y failed:   C:\\Working\\pricinglibrary\\Externals\\QuantLib\\ql/termstructures/iterativebootstrap.hpp(87): no bootstrap helpers given\n",
      "\n",
      "[2022-11-10 09:02:07] [error  ] SWAP/SEK-STIBOR-3M/10Y/6Y failed:   C:\\Working\\pricinglibrary\\Externals\\QuantLib\\ql/termstructures/iterativebootstrap.hpp(87): no bootstrap helpers given\n",
      "\n",
      "[2022-11-10 09:02:07] [error  ] SWAP/SEK-STIBOR-3M/10Y/7Y failed:   C:\\Working\\pricinglibrary\\Externals\\QuantLib\\ql/termstructures/iterativebootstrap.hpp(87): no bootstrap helpers given\n",
      "\n",
      "[2022-11-10 09:02:07] [error  ] SWAP/SEK-STIBOR-3M/10Y/8Y failed:   C:\\Working\\pricinglibrary\\Externals\\QuantLib\\ql/termstructures/iterativebootstrap.hpp(87): no bootstrap helpers given\n",
      "\n",
      "[2022-11-10 09:02:07] [error  ] SWAP/SEK-STIBOR-3M/10Y/9Y failed:   C:\\Working\\pricinglibrary\\Externals\\QuantLib\\ql/termstructures/iterativebootstrap.hpp(87): no bootstrap helpers given\n",
      "\n",
      "[2022-11-10 09:02:07] [error  ] SWAP/SEK-STIBOR-3M/12Y/10Y failed:   C:\\Working\\pricinglibrary\\Externals\\QuantLib\\ql/termstructures/iterativebootstrap.hpp(87): no bootstrap helpers given\n",
      "\n",
      "[2022-11-10 09:02:07] [error  ] SWAP/SEK-STIBOR-3M/12Y/12Y failed:   C:\\Working\\pricinglibrary\\Externals\\QuantLib\\ql/termstructures/iterativebootstrap.hpp(87): no bootstrap helpers given\n",
      "\n",
      "[2022-11-10 09:02:07] [error  ] SWAP/SEK-STIBOR-3M/12Y/15Y failed:   C:\\Working\\pricinglibrary\\Externals\\QuantLib\\ql/termstructures/iterativebootstrap.hpp(87): no bootstrap helpers given\n",
      "\n",
      "[2022-11-10 09:02:07] [error  ] SWAP/SEK-STIBOR-3M/12Y/1Y failed:   C:\\Working\\pricinglibrary\\Externals\\QuantLib\\ql/termstructures/iterativebootstrap.hpp(87): no bootstrap helpers given\n",
      "\n",
      "[2022-11-10 09:02:07] [error  ] SWAP/SEK-STIBOR-3M/12Y/20Y failed:   C:\\Working\\pricinglibrary\\Externals\\QuantLib\\ql/termstructures/iterativebootstrap.hpp(87): no bootstrap helpers given\n",
      "\n",
      "[2022-11-10 09:02:07] [error  ] SWAP/SEK-STIBOR-3M/12Y/25Y failed:   C:\\Working\\pricinglibrary\\Externals\\QuantLib\\ql/termstructures/iterativebootstrap.hpp(87): no bootstrap helpers given\n",
      "\n",
      "[2022-11-10 09:02:07] [error  ] SWAP/SEK-STIBOR-3M/12Y/2Y failed:   C:\\Working\\pricinglibrary\\Externals\\QuantLib\\ql/termstructures/iterativebootstrap.hpp(87): no bootstrap helpers given\n",
      "\n",
      "[2022-11-10 09:02:07] [error  ] SWAP/SEK-STIBOR-3M/12Y/30Y failed:   C:\\Working\\pricinglibrary\\Externals\\QuantLib\\ql/termstructures/iterativebootstrap.hpp(87): no bootstrap helpers given\n",
      "\n",
      "[2022-11-10 09:02:07] [error  ] SWAP/SEK-STIBOR-3M/12Y/3Y failed:   C:\\Working\\pricinglibrary\\Externals\\QuantLib\\ql/termstructures/iterativebootstrap.hpp(87): no bootstrap helpers given\n",
      "\n",
      "[2022-11-10 09:02:07] [error  ] SWAP/SEK-STIBOR-3M/12Y/4Y failed:   C:\\Working\\pricinglibrary\\Externals\\QuantLib\\ql/termstructures/iterativebootstrap.hpp(87): no bootstrap helpers given\n",
      "\n",
      "[2022-11-10 09:02:07] [error  ] SWAP/SEK-STIBOR-3M/12Y/5Y failed:   C:\\Working\\pricinglibrary\\Externals\\QuantLib\\ql/termstructures/iterativebootstrap.hpp(87): no bootstrap helpers given\n",
      "\n",
      "[2022-11-10 09:02:07] [error  ] SWAP/SEK-STIBOR-3M/12Y/6Y failed:   C:\\Working\\pricinglibrary\\Externals\\QuantLib\\ql/termstructures/iterativebootstrap.hpp(87): no bootstrap helpers given\n",
      "\n",
      "[2022-11-10 09:02:07] [error  ] SWAP/SEK-STIBOR-3M/12Y/7Y failed:   C:\\Working\\pricinglibrary\\Externals\\QuantLib\\ql/termstructures/iterativebootstrap.hpp(87): no bootstrap helpers given\n",
      "\n",
      "[2022-11-10 09:02:07] [error  ] SWAP/SEK-STIBOR-3M/12Y/8Y failed:   C:\\Working\\pricinglibrary\\Externals\\QuantLib\\ql/termstructures/iterativebootstrap.hpp(87): no bootstrap helpers given\n",
      "\n",
      "[2022-11-10 09:02:07] [error  ] SWAP/SEK-STIBOR-3M/12Y/9Y failed:   C:\\Working\\pricinglibrary\\Externals\\QuantLib\\ql/termstructures/iterativebootstrap.hpp(87): no bootstrap helpers given\n",
      "\n",
      "[2022-11-10 09:02:07] [error  ] SWAP/SEK-STIBOR-3M/15Y/10Y failed:   C:\\Working\\pricinglibrary\\Externals\\QuantLib\\ql/termstructures/iterativebootstrap.hpp(87): no bootstrap helpers given\n",
      "\n",
      "[2022-11-10 09:02:07] [error  ] SWAP/SEK-STIBOR-3M/15Y/12Y failed:   C:\\Working\\pricinglibrary\\Externals\\QuantLib\\ql/termstructures/iterativebootstrap.hpp(87): no bootstrap helpers given\n",
      "\n",
      "[2022-11-10 09:02:07] [error  ] SWAP/SEK-STIBOR-3M/15Y/15Y failed:   C:\\Working\\pricinglibrary\\Externals\\QuantLib\\ql/termstructures/iterativebootstrap.hpp(87): no bootstrap helpers given\n",
      "\n",
      "[2022-11-10 09:02:07] [error  ] SWAP/SEK-STIBOR-3M/15Y/1Y failed:   C:\\Working\\pricinglibrary\\Externals\\QuantLib\\ql/termstructures/iterativebootstrap.hpp(87): no bootstrap helpers given\n",
      "\n",
      "[2022-11-10 09:02:07] [error  ] SWAP/SEK-STIBOR-3M/15Y/20Y failed:   C:\\Working\\pricinglibrary\\Externals\\QuantLib\\ql/termstructures/iterativebootstrap.hpp(87): no bootstrap helpers given\n",
      "\n",
      "[2022-11-10 09:02:07] [error  ] SWAP/SEK-STIBOR-3M/15Y/25Y failed:   C:\\Working\\pricinglibrary\\Externals\\QuantLib\\ql/termstructures/iterativebootstrap.hpp(87): no bootstrap helpers given\n",
      "\n",
      "[2022-11-10 09:02:07] [error  ] SWAP/SEK-STIBOR-3M/15Y/2Y failed:   C:\\Working\\pricinglibrary\\Externals\\QuantLib\\ql/termstructures/iterativebootstrap.hpp(87): no bootstrap helpers given\n",
      "\n",
      "[2022-11-10 09:02:07] [error  ] SWAP/SEK-STIBOR-3M/15Y/30Y failed:   C:\\Working\\pricinglibrary\\Externals\\QuantLib\\ql/termstructures/iterativebootstrap.hpp(87): no bootstrap helpers given\n",
      "\n",
      "[2022-11-10 09:02:07] [error  ] SWAP/SEK-STIBOR-3M/15Y/3Y failed:   C:\\Working\\pricinglibrary\\Externals\\QuantLib\\ql/termstructures/iterativebootstrap.hpp(87): no bootstrap helpers given\n",
      "\n",
      "[2022-11-10 09:02:07] [error  ] SWAP/SEK-STIBOR-3M/15Y/4Y failed:   C:\\Working\\pricinglibrary\\Externals\\QuantLib\\ql/termstructures/iterativebootstrap.hpp(87): no bootstrap helpers given\n",
      "\n",
      "[2022-11-10 09:02:07] [error  ] SWAP/SEK-STIBOR-3M/15Y/5Y failed:   C:\\Working\\pricinglibrary\\Externals\\QuantLib\\ql/termstructures/iterativebootstrap.hpp(87): no bootstrap helpers given\n",
      "\n",
      "[2022-11-10 09:02:07] [error  ] SWAP/SEK-STIBOR-3M/15Y/6Y failed:   C:\\Working\\pricinglibrary\\Externals\\QuantLib\\ql/termstructures/iterativebootstrap.hpp(87): no bootstrap helpers given\n",
      "\n",
      "[2022-11-10 09:02:07] [error  ] SWAP/SEK-STIBOR-3M/15Y/7Y failed:   C:\\Working\\pricinglibrary\\Externals\\QuantLib\\ql/termstructures/iterativebootstrap.hpp(87): no bootstrap helpers given\n",
      "\n",
      "[2022-11-10 09:02:07] [error  ] SWAP/SEK-STIBOR-3M/15Y/8Y failed:   C:\\Working\\pricinglibrary\\Externals\\QuantLib\\ql/termstructures/iterativebootstrap.hpp(87): no bootstrap helpers given\n",
      "\n",
      "[2022-11-10 09:02:07] [error  ] SWAP/SEK-STIBOR-3M/15Y/9Y failed:   C:\\Working\\pricinglibrary\\Externals\\QuantLib\\ql/termstructures/iterativebootstrap.hpp(87): no bootstrap helpers given\n",
      "\n",
      "[2022-11-10 09:02:07] [error  ] SWAP/SEK-STIBOR-3M/1Y/10Y failed:   C:\\Working\\pricinglibrary\\Externals\\QuantLib\\ql/termstructures/iterativebootstrap.hpp(87): no bootstrap helpers given\n",
      "\n",
      "[2022-11-10 09:02:07] [error  ] SWAP/SEK-STIBOR-3M/1Y/12Y failed:   C:\\Working\\pricinglibrary\\Externals\\QuantLib\\ql/termstructures/iterativebootstrap.hpp(87): no bootstrap helpers given\n",
      "\n",
      "[2022-11-10 09:02:07] [error  ] SWAP/SEK-STIBOR-3M/1Y/15Y failed:   C:\\Working\\pricinglibrary\\Externals\\QuantLib\\ql/termstructures/iterativebootstrap.hpp(87): no bootstrap helpers given\n",
      "\n",
      "[2022-11-10 09:02:07] [error  ] SWAP/SEK-STIBOR-3M/1Y/1Y failed:   C:\\Working\\pricinglibrary\\Externals\\QuantLib\\ql/termstructures/iterativebootstrap.hpp(87): no bootstrap helpers given\n",
      "\n",
      "[2022-11-10 09:02:07] [error  ] SWAP/SEK-STIBOR-3M/1Y/20Y failed:   C:\\Working\\pricinglibrary\\Externals\\QuantLib\\ql/termstructures/iterativebootstrap.hpp(87): no bootstrap helpers given\n",
      "\n",
      "[2022-11-10 09:02:07] [error  ] SWAP/SEK-STIBOR-3M/1Y/25Y failed:   C:\\Working\\pricinglibrary\\Externals\\QuantLib\\ql/termstructures/iterativebootstrap.hpp(87): no bootstrap helpers given\n",
      "\n",
      "[2022-11-10 09:02:07] [error  ] SWAP/SEK-STIBOR-3M/1Y/2Y failed:   C:\\Working\\pricinglibrary\\Externals\\QuantLib\\ql/termstructures/iterativebootstrap.hpp(87): no bootstrap helpers given\n",
      "\n",
      "[2022-11-10 09:02:07] [error  ] SWAP/SEK-STIBOR-3M/1Y/30Y failed:   C:\\Working\\pricinglibrary\\Externals\\QuantLib\\ql/termstructures/iterativebootstrap.hpp(87): no bootstrap helpers given\n",
      "\n",
      "[2022-11-10 09:02:07] [error  ] SWAP/SEK-STIBOR-3M/1Y/3Y failed:   C:\\Working\\pricinglibrary\\Externals\\QuantLib\\ql/termstructures/iterativebootstrap.hpp(87): no bootstrap helpers given\n",
      "\n",
      "[2022-11-10 09:02:07] [error  ] SWAP/SEK-STIBOR-3M/1Y/4Y failed:   C:\\Working\\pricinglibrary\\Externals\\QuantLib\\ql/termstructures/iterativebootstrap.hpp(87): no bootstrap helpers given\n",
      "\n",
      "[2022-11-10 09:02:07] [error  ] SWAP/SEK-STIBOR-3M/1Y/5Y failed:   C:\\Working\\pricinglibrary\\Externals\\QuantLib\\ql/termstructures/iterativebootstrap.hpp(87): no bootstrap helpers given\n",
      "\n",
      "[2022-11-10 09:02:07] [error  ] SWAP/SEK-STIBOR-3M/1Y/6Y failed:   C:\\Working\\pricinglibrary\\Externals\\QuantLib\\ql/termstructures/iterativebootstrap.hpp(87): no bootstrap helpers given\n",
      "\n",
      "[2022-11-10 09:02:07] [error  ] SWAP/SEK-STIBOR-3M/1Y/7Y failed:   C:\\Working\\pricinglibrary\\Externals\\QuantLib\\ql/termstructures/iterativebootstrap.hpp(87): no bootstrap helpers given\n",
      "\n",
      "[2022-11-10 09:02:07] [error  ] SWAP/SEK-STIBOR-3M/1Y/8Y failed:   C:\\Working\\pricinglibrary\\Externals\\QuantLib\\ql/termstructures/iterativebootstrap.hpp(87): no bootstrap helpers given\n",
      "\n",
      "[2022-11-10 09:02:07] [error  ] SWAP/SEK-STIBOR-3M/1Y/9Y failed:   C:\\Working\\pricinglibrary\\Externals\\QuantLib\\ql/termstructures/iterativebootstrap.hpp(87): no bootstrap helpers given\n",
      "\n",
      "[2022-11-10 09:02:07] [error  ] SWAP/SEK-STIBOR-3M/20Y/10Y failed:   C:\\Working\\pricinglibrary\\Externals\\QuantLib\\ql/termstructures/iterativebootstrap.hpp(87): no bootstrap helpers given\n",
      "\n",
      "[2022-11-10 09:02:07] [error  ] SWAP/SEK-STIBOR-3M/20Y/12Y failed:   C:\\Working\\pricinglibrary\\Externals\\QuantLib\\ql/termstructures/iterativebootstrap.hpp(87): no bootstrap helpers given\n",
      "\n",
      "[2022-11-10 09:02:07] [error  ] SWAP/SEK-STIBOR-3M/20Y/15Y failed:   C:\\Working\\pricinglibrary\\Externals\\QuantLib\\ql/termstructures/iterativebootstrap.hpp(87): no bootstrap helpers given\n",
      "\n",
      "[2022-11-10 09:02:07] [error  ] SWAP/SEK-STIBOR-3M/20Y/1Y failed:   C:\\Working\\pricinglibrary\\Externals\\QuantLib\\ql/termstructures/iterativebootstrap.hpp(87): no bootstrap helpers given\n",
      "\n",
      "[2022-11-10 09:02:07] [error  ] SWAP/SEK-STIBOR-3M/20Y/20Y failed:   C:\\Working\\pricinglibrary\\Externals\\QuantLib\\ql/termstructures/iterativebootstrap.hpp(87): no bootstrap helpers given\n",
      "\n",
      "[2022-11-10 09:02:07] [error  ] SWAP/SEK-STIBOR-3M/20Y/25Y failed:   C:\\Working\\pricinglibrary\\Externals\\QuantLib\\ql/termstructures/iterativebootstrap.hpp(87): no bootstrap helpers given\n",
      "\n",
      "[2022-11-10 09:02:07] [error  ] SWAP/SEK-STIBOR-3M/20Y/2Y failed:   C:\\Working\\pricinglibrary\\Externals\\QuantLib\\ql/termstructures/iterativebootstrap.hpp(87): no bootstrap helpers given\n",
      "\n",
      "[2022-11-10 09:02:07] [error  ] SWAP/SEK-STIBOR-3M/20Y/30Y failed:   C:\\Working\\pricinglibrary\\Externals\\QuantLib\\ql/termstructures/iterativebootstrap.hpp(87): no bootstrap helpers given\n",
      "\n",
      "[2022-11-10 09:02:07] [error  ] SWAP/SEK-STIBOR-3M/20Y/3Y failed:   C:\\Working\\pricinglibrary\\Externals\\QuantLib\\ql/termstructures/iterativebootstrap.hpp(87): no bootstrap helpers given\n",
      "\n",
      "[2022-11-10 09:02:07] [error  ] SWAP/SEK-STIBOR-3M/20Y/4Y failed:   C:\\Working\\pricinglibrary\\Externals\\QuantLib\\ql/termstructures/iterativebootstrap.hpp(87): no bootstrap helpers given\n",
      "\n",
      "[2022-11-10 09:02:07] [error  ] SWAP/SEK-STIBOR-3M/20Y/5Y failed:   C:\\Working\\pricinglibrary\\Externals\\QuantLib\\ql/termstructures/iterativebootstrap.hpp(87): no bootstrap helpers given\n",
      "\n",
      "[2022-11-10 09:02:07] [error  ] SWAP/SEK-STIBOR-3M/20Y/6Y failed:   C:\\Working\\pricinglibrary\\Externals\\QuantLib\\ql/termstructures/iterativebootstrap.hpp(87): no bootstrap helpers given\n",
      "\n",
      "[2022-11-10 09:02:07] [error  ] SWAP/SEK-STIBOR-3M/20Y/7Y failed:   C:\\Working\\pricinglibrary\\Externals\\QuantLib\\ql/termstructures/iterativebootstrap.hpp(87): no bootstrap helpers given\n",
      "\n",
      "[2022-11-10 09:02:07] [error  ] SWAP/SEK-STIBOR-3M/20Y/8Y failed:   C:\\Working\\pricinglibrary\\Externals\\QuantLib\\ql/termstructures/iterativebootstrap.hpp(87): no bootstrap helpers given\n",
      "\n",
      "[2022-11-10 09:02:07] [error  ] SWAP/SEK-STIBOR-3M/20Y/9Y failed:   C:\\Working\\pricinglibrary\\Externals\\QuantLib\\ql/termstructures/iterativebootstrap.hpp(87): no bootstrap helpers given\n",
      "\n",
      "[2022-11-10 09:02:07] [error  ] SWAP/SEK-STIBOR-3M/25Y/10Y failed:   C:\\Working\\pricinglibrary\\Externals\\QuantLib\\ql/termstructures/iterativebootstrap.hpp(87): no bootstrap helpers given\n",
      "\n",
      "[2022-11-10 09:02:07] [error  ] SWAP/SEK-STIBOR-3M/25Y/12Y failed:   C:\\Working\\pricinglibrary\\Externals\\QuantLib\\ql/termstructures/iterativebootstrap.hpp(87): no bootstrap helpers given\n",
      "\n",
      "[2022-11-10 09:02:07] [error  ] SWAP/SEK-STIBOR-3M/25Y/15Y failed:   C:\\Working\\pricinglibrary\\Externals\\QuantLib\\ql/termstructures/iterativebootstrap.hpp(87): no bootstrap helpers given\n",
      "\n",
      "[2022-11-10 09:02:07] [error  ] SWAP/SEK-STIBOR-3M/25Y/1Y failed:   C:\\Working\\pricinglibrary\\Externals\\QuantLib\\ql/termstructures/iterativebootstrap.hpp(87): no bootstrap helpers given\n",
      "\n",
      "[2022-11-10 09:02:07] [error  ] SWAP/SEK-STIBOR-3M/25Y/20Y failed:   C:\\Working\\pricinglibrary\\Externals\\QuantLib\\ql/termstructures/iterativebootstrap.hpp(87): no bootstrap helpers given\n",
      "\n",
      "[2022-11-10 09:02:07] [error  ] SWAP/SEK-STIBOR-3M/25Y/25Y failed:   C:\\Working\\pricinglibrary\\Externals\\QuantLib\\ql/termstructures/iterativebootstrap.hpp(87): no bootstrap helpers given\n",
      "\n",
      "[2022-11-10 09:02:07] [error  ] SWAP/SEK-STIBOR-3M/25Y/2Y failed:   C:\\Working\\pricinglibrary\\Externals\\QuantLib\\ql/termstructures/iterativebootstrap.hpp(87): no bootstrap helpers given\n",
      "\n",
      "[2022-11-10 09:02:07] [error  ] SWAP/SEK-STIBOR-3M/25Y/30Y failed:   C:\\Working\\pricinglibrary\\Externals\\QuantLib\\ql/termstructures/iterativebootstrap.hpp(87): no bootstrap helpers given\n",
      "\n",
      "[2022-11-10 09:02:07] [error  ] SWAP/SEK-STIBOR-3M/25Y/3Y failed:   C:\\Working\\pricinglibrary\\Externals\\QuantLib\\ql/termstructures/iterativebootstrap.hpp(87): no bootstrap helpers given\n",
      "\n",
      "[2022-11-10 09:02:07] [error  ] SWAP/SEK-STIBOR-3M/25Y/4Y failed:   C:\\Working\\pricinglibrary\\Externals\\QuantLib\\ql/termstructures/iterativebootstrap.hpp(87): no bootstrap helpers given\n",
      "\n",
      "[2022-11-10 09:02:07] [error  ] SWAP/SEK-STIBOR-3M/25Y/5Y failed:   C:\\Working\\pricinglibrary\\Externals\\QuantLib\\ql/termstructures/iterativebootstrap.hpp(87): no bootstrap helpers given\n",
      "\n",
      "[2022-11-10 09:02:07] [error  ] SWAP/SEK-STIBOR-3M/25Y/6Y failed:   C:\\Working\\pricinglibrary\\Externals\\QuantLib\\ql/termstructures/iterativebootstrap.hpp(87): no bootstrap helpers given\n",
      "\n"
     ]
    }
   ],
   "source": [
    "with open('C:\\\\Temp\\\\P901FYF_2022-11-10T090200_API.LOG') as f:\n",
    "    for i in range(100):\n",
    "        print(f'{f.readline()}')"
   ]
  },
  {
   "cell_type": "code",
   "execution_count": null,
   "metadata": {},
   "outputs": [],
   "source": []
  },
  {
   "cell_type": "code",
   "execution_count": 4,
   "metadata": {
    "ExecuteTime": {
     "end_time": "2021-11-15T14:09:53.980291Z",
     "start_time": "2021-11-15T14:09:53.973289Z"
    },
    "execution": {
     "iopub.execute_input": "2022-11-02T09:04:13.560558Z",
     "iopub.status.busy": "2022-11-02T09:04:13.559561Z",
     "iopub.status.idle": "2022-11-02T09:04:13.576564Z",
     "shell.execute_reply": "2022-11-02T09:04:13.576564Z",
     "shell.execute_reply.started": "2022-11-02T09:04:13.560558Z"
    }
   },
   "outputs": [],
   "source": [
    "o1 = option(139.16, True)\n",
    "o2 = option(139.16, False)\n",
    "o3 = option(141, True)\n",
    "o4 = option(138, False)"
   ]
  },
  {
   "cell_type": "code",
   "execution_count": 5,
   "metadata": {
    "ExecuteTime": {
     "end_time": "2021-11-15T14:09:54.954320Z",
     "start_time": "2021-11-15T14:09:54.948318Z"
    },
    "execution": {
     "iopub.execute_input": "2022-11-02T09:04:14.160543Z",
     "iopub.status.busy": "2022-11-02T09:04:14.160543Z",
     "iopub.status.idle": "2022-11-02T09:04:14.176543Z",
     "shell.execute_reply": "2022-11-02T09:04:14.176543Z",
     "shell.execute_reply.started": "2022-11-02T09:04:14.160543Z"
    }
   },
   "outputs": [],
   "source": [
    "sold_butterfly = lambda s: 200*1000*(o1(s) + o2(s)) - 600*1000*(o3(s) + o4(s))"
   ]
  },
  {
   "cell_type": "code",
   "execution_count": 6,
   "metadata": {
    "ExecuteTime": {
     "end_time": "2021-11-15T14:09:55.853333Z",
     "start_time": "2021-11-15T14:09:55.848328Z"
    },
    "execution": {
     "iopub.execute_input": "2022-11-02T09:04:14.767588Z",
     "iopub.status.busy": "2022-11-02T09:04:14.767588Z",
     "iopub.status.idle": "2022-11-02T09:04:14.777558Z",
     "shell.execute_reply": "2022-11-02T09:04:14.776557Z",
     "shell.execute_reply.started": "2022-11-02T09:04:14.767588Z"
    }
   },
   "outputs": [],
   "source": [
    "s = np.linspace(136.5, 143, 100)\n",
    "v = sold_butterfly(s)"
   ]
  },
  {
   "cell_type": "code",
   "execution_count": 7,
   "metadata": {
    "ExecuteTime": {
     "end_time": "2021-11-15T14:09:59.118923Z",
     "start_time": "2021-11-15T14:09:56.674887Z"
    },
    "execution": {
     "iopub.execute_input": "2022-11-02T09:04:15.465613Z",
     "iopub.status.busy": "2022-11-02T09:04:15.465613Z",
     "iopub.status.idle": "2022-11-02T09:04:15.692581Z",
     "shell.execute_reply": "2022-11-02T09:04:15.691609Z",
     "shell.execute_reply.started": "2022-11-02T09:04:15.465613Z"
    }
   },
   "outputs": [
    {
     "name": "stdout",
     "output_type": "stream",
     "text": [
      "Min breakeven is 137.48 and max breakeven is 141.88\n"
     ]
    },
    {
     "data": {
      "text/plain": [
       "[<matplotlib.lines.Line2D at 0x1f2f81053c0>,\n",
       " <matplotlib.lines.Line2D at 0x1f2f8105480>]"
      ]
     },
     "execution_count": 7,
     "metadata": {},
     "output_type": "execute_result"
    },
    {
     "data": {
      "image/png": "[encoded data removed]",
      "text/plain": [
       "<Figure size 640x480 with 1 Axes>"
      ]
     },
     "metadata": {},
     "output_type": "display_data"
    }
   ],
   "source": [
    "min_break = s[np.argmax(v > 21875)]\n",
    "max_break = s[len(v) - np.argmax(v[::-1] > 21875)]\n",
    "print(f'Min breakeven is {min_break:.2f} and max breakeven is {max_break:.2f}')\n",
    "plt.plot(s,v)\n",
    "plt.plot(min_break, 0, 'or', max_break, 0, 'or',)"
   ]
  },
  {
   "cell_type": "code",
   "execution_count": 8,
   "metadata": {
    "execution": {
     "iopub.execute_input": "2022-11-02T09:04:21.210511Z",
     "iopub.status.busy": "2022-11-02T09:04:21.210511Z",
     "iopub.status.idle": "2022-11-02T09:04:21.512517Z",
     "shell.execute_reply": "2022-11-02T09:04:21.511515Z",
     "shell.execute_reply.started": "2022-11-02T09:04:21.210511Z"
    }
   },
   "outputs": [
    {
     "ename": "ModuleNotFoundError",
     "evalue": "No module named 'tf_quant_finance'",
     "output_type": "error",
     "traceback": [
      "\u001b[1;31m---------------------------------------------------------------------------\u001b[0m",
      "\u001b[1;31mModuleNotFoundError\u001b[0m                       Traceback (most recent call last)",
      "\u001b[1;32m~\\AppData\\Local\\Temp\\ipykernel_7284\\80280004.py\u001b[0m in \u001b[0;36m<cell line: 1>\u001b[1;34m()\u001b[0m\n\u001b[1;32m----> 1\u001b[1;33m \u001b[1;32mimport\u001b[0m \u001b[0mtf_quant_finance\u001b[0m \u001b[1;32mas\u001b[0m \u001b[0mtfq\u001b[0m\u001b[1;33m\u001b[0m\u001b[1;33m\u001b[0m\u001b[0m\n\u001b[0m",
      "\u001b[1;31mModuleNotFoundError\u001b[0m: No module named 'tf_quant_finance'"
     ]
    }
   ],
   "source": [
    "import tf_quant_finance as tfq"
   ]
  },
  {
   "cell_type": "code",
   "execution_count": 9,
   "metadata": {},
   "outputs": [
    {
     "name": "stdout",
     "output_type": "stream",
     "text": [
      "Object `tfq.black_scholes.option_price` not found.\n"
     ]
    }
   ],
   "source": [
    "o = tfq.black_scholes.option_price?"
   ]
  },
  {
   "cell_type": "code",
   "execution_count": null,
   "metadata": {},
   "outputs": [],
   "source": [
    "o = tfq.black_scholes.option_price"
   ]
  },
  {
   "cell_type": "code",
   "execution_count": null,
   "metadata": {},
   "outputs": [],
   "source": [
    "o = tfq.black_scholes.option_price"
   ]
  },
  {
   "cell_type": "code",
   "execution_count": 24,
   "metadata": {},
   "outputs": [],
   "source": [
    "import numpy as np\n",
    "n = 20\n",
    "m = 10\n",
    "np.random.seed(1)\n",
    "A = np.random.randn(m,n)\n",
    "b = np.random.randn(m,1)"
   ]
  },
  {
   "cell_type": "code",
   "execution_count": 5,
   "metadata": {
    "execution": {
     "iopub.execute_input": "2022-12-01T08:55:08.218902Z",
     "iopub.status.busy": "2022-12-01T08:55:08.217901Z",
     "iopub.status.idle": "2022-12-01T08:55:08.381239Z",
     "shell.execute_reply": "2022-12-01T08:55:08.381239Z",
     "shell.execute_reply.started": "2022-12-01T08:55:08.218902Z"
    }
   },
   "outputs": [
    {
     "ename": "ModuleNotFoundError",
     "evalue": "No module named 'tensorflow'",
     "output_type": "error",
     "traceback": [
      "\u001b[1;31m---------------------------------------------------------------------------\u001b[0m",
      "\u001b[1;31mModuleNotFoundError\u001b[0m                       Traceback (most recent call last)",
      "Cell \u001b[1;32mIn [5], line 1\u001b[0m\n\u001b[1;32m----> 1\u001b[0m \u001b[38;5;28;01mimport\u001b[39;00m \u001b[38;5;21;01mtensorflow\u001b[39;00m \u001b[38;5;28;01mas\u001b[39;00m \u001b[38;5;21;01mtf\u001b[39;00m\n\u001b[0;32m      2\u001b[0m MAX_ITER\u001b[38;5;241m=\u001b[39m\u001b[38;5;241m10\u001b[39m\n\u001b[0;32m      3\u001b[0m ADAM_ITER\u001b[38;5;241m=\u001b[39m\u001b[38;5;241m100\u001b[39m\n",
      "\u001b[1;31mModuleNotFoundError\u001b[0m: No module named 'tensorflow'"
     ]
    }
   ],
   "source": [
    "import tensorflow as tf\n",
    "MAX_ITER=10\n",
    "ADAM_ITER=100\n",
    "rho=1.0\n",
    "\n",
    "x = tf.Variable(tf.zeros((n, 1)), dtype=tf.float32) # parameter to optimze\n",
    "y = tf.Variable(tf.zeros((m, 1)), dtype=tf.float32) # (multiplier) parameter to find\n",
    "\n",
    "optimizer = tf.keras.optimizers.Adam(learning_rate=0.01, amsgrad=True)\n",
    "\n",
    "for k in range(MAX_ITER):\n",
    "    for l in range(ADAM_ITER):\n",
    "        with tf.GradientTape() as g:\n",
    "            g.watch([x])\n",
    "            resid = A @ x - b\n",
    "            loss = tf.norm(x,1) + tf.transpose(y)@resid + rho/2*tf.norm(resid,2)**2\n",
    "        gradients = g.gradient(loss, [x])\n",
    "        optimizer.apply_gradients(zip(gradients, [x]))\n",
    "    \n",
    "    y = y + rho * resid\n",
    "    if k%2 == 0:\n",
    "        print(loss.numpy()[0][0])\n",
    "        "
   ]
  },
  {
   "cell_type": "code",
   "execution_count": 74,
   "metadata": {},
   "outputs": [
    {
     "ename": "InvalidArgumentError",
     "evalue": "Value for attr 'Tidx' of float is not in the list of allowed values: int32, int64\n\t; NodeDef: {{node Sum}}; Op<name=Sum; signature=input:T, reduction_indices:Tidx -> output:T; attr=keep_dims:bool,default=false; attr=T:type,allowed=[DT_FLOAT, DT_DOUBLE, DT_INT32, DT_UINT8, DT_INT16, ..., DT_UINT16, DT_COMPLEX128, DT_HALF, DT_UINT32, DT_UINT64]; attr=Tidx:type,default=DT_INT32,allowed=[DT_INT32, DT_INT64]> [Op:Sum]",
     "output_type": "error",
     "traceback": [
      "\u001b[1;31m---------------------------------------------------------------------------\u001b[0m",
      "\u001b[1;31mInvalidArgumentError\u001b[0m                      Traceback (most recent call last)",
      "\u001b[1;32m<ipython-input-74-9139262e9e80>\u001b[0m in \u001b[0;36m<module>\u001b[1;34m\u001b[0m\n\u001b[1;32m----> 1\u001b[1;33m \u001b[0mtf\u001b[0m\u001b[1;33m.\u001b[0m\u001b[0mreduce_sum\u001b[0m\u001b[1;33m(\u001b[0m\u001b[0my\u001b[0m\u001b[1;33m,\u001b[0m\u001b[0mresid\u001b[0m\u001b[1;33m)\u001b[0m\u001b[1;33m\u001b[0m\u001b[1;33m\u001b[0m\u001b[0m\n\u001b[0m",
      "\u001b[1;32m~\\.conda\\envs\\quant\\lib\\site-packages\\tensorflow\\python\\util\\dispatch.py\u001b[0m in \u001b[0;36mwrapper\u001b[1;34m(*args, **kwargs)\u001b[0m\n\u001b[0;32m    199\u001b[0m     \u001b[1;34m\"\"\"Call target, and fall back on dispatchers if there is a TypeError.\"\"\"\u001b[0m\u001b[1;33m\u001b[0m\u001b[1;33m\u001b[0m\u001b[0m\n\u001b[0;32m    200\u001b[0m     \u001b[1;32mtry\u001b[0m\u001b[1;33m:\u001b[0m\u001b[1;33m\u001b[0m\u001b[1;33m\u001b[0m\u001b[0m\n\u001b[1;32m--> 201\u001b[1;33m       \u001b[1;32mreturn\u001b[0m \u001b[0mtarget\u001b[0m\u001b[1;33m(\u001b[0m\u001b[1;33m*\u001b[0m\u001b[0margs\u001b[0m\u001b[1;33m,\u001b[0m \u001b[1;33m**\u001b[0m\u001b[0mkwargs\u001b[0m\u001b[1;33m)\u001b[0m\u001b[1;33m\u001b[0m\u001b[1;33m\u001b[0m\u001b[0m\n\u001b[0m\u001b[0;32m    202\u001b[0m     \u001b[1;32mexcept\u001b[0m \u001b[1;33m(\u001b[0m\u001b[0mTypeError\u001b[0m\u001b[1;33m,\u001b[0m \u001b[0mValueError\u001b[0m\u001b[1;33m)\u001b[0m\u001b[1;33m:\u001b[0m\u001b[1;33m\u001b[0m\u001b[1;33m\u001b[0m\u001b[0m\n\u001b[0;32m    203\u001b[0m       \u001b[1;31m# Note: convert_to_eager_tensor currently raises a ValueError, not a\u001b[0m\u001b[1;33m\u001b[0m\u001b[1;33m\u001b[0m\u001b[1;33m\u001b[0m\u001b[0m\n",
      "\u001b[1;32m~\\.conda\\envs\\quant\\lib\\site-packages\\tensorflow\\python\\ops\\math_ops.py\u001b[0m in \u001b[0;36mreduce_sum\u001b[1;34m(input_tensor, axis, keepdims, name)\u001b[0m\n\u001b[0;32m   1981\u001b[0m   \"\"\"\n\u001b[0;32m   1982\u001b[0m \u001b[1;33m\u001b[0m\u001b[0m\n\u001b[1;32m-> 1983\u001b[1;33m   return reduce_sum_with_dims(input_tensor, axis, keepdims, name,\n\u001b[0m\u001b[0;32m   1984\u001b[0m                               _ReductionDims(input_tensor, axis))\n\u001b[0;32m   1985\u001b[0m \u001b[1;33m\u001b[0m\u001b[0m\n",
      "\u001b[1;32m~\\.conda\\envs\\quant\\lib\\site-packages\\tensorflow\\python\\ops\\math_ops.py\u001b[0m in \u001b[0;36mreduce_sum_with_dims\u001b[1;34m(input_tensor, axis, keepdims, name, dims)\u001b[0m\n\u001b[0;32m   1993\u001b[0m   return _may_reduce_to_scalar(\n\u001b[0;32m   1994\u001b[0m       \u001b[0mkeepdims\u001b[0m\u001b[1;33m,\u001b[0m \u001b[0maxis\u001b[0m\u001b[1;33m,\u001b[0m\u001b[1;33m\u001b[0m\u001b[1;33m\u001b[0m\u001b[0m\n\u001b[1;32m-> 1995\u001b[1;33m       gen_math_ops._sum(input_tensor, dims, keepdims, name=name))\n\u001b[0m\u001b[0;32m   1996\u001b[0m \u001b[1;33m\u001b[0m\u001b[0m\n\u001b[0;32m   1997\u001b[0m \u001b[1;33m\u001b[0m\u001b[0m\n",
      "\u001b[1;32m~\\.conda\\envs\\quant\\lib\\site-packages\\tensorflow\\python\\ops\\gen_math_ops.py\u001b[0m in \u001b[0;36m_sum\u001b[1;34m(input, axis, keep_dims, name)\u001b[0m\n\u001b[0;32m  10520\u001b[0m       \u001b[1;32mreturn\u001b[0m \u001b[0m_result\u001b[0m\u001b[1;33m\u001b[0m\u001b[1;33m\u001b[0m\u001b[0m\n\u001b[0;32m  10521\u001b[0m     \u001b[1;32mexcept\u001b[0m \u001b[0m_core\u001b[0m\u001b[1;33m.\u001b[0m\u001b[0m_NotOkStatusException\u001b[0m \u001b[1;32mas\u001b[0m \u001b[0me\u001b[0m\u001b[1;33m:\u001b[0m\u001b[1;33m\u001b[0m\u001b[1;33m\u001b[0m\u001b[0m\n\u001b[1;32m> 10522\u001b[1;33m       \u001b[0m_ops\u001b[0m\u001b[1;33m.\u001b[0m\u001b[0mraise_from_not_ok_status\u001b[0m\u001b[1;33m(\u001b[0m\u001b[0me\u001b[0m\u001b[1;33m,\u001b[0m \u001b[0mname\u001b[0m\u001b[1;33m)\u001b[0m\u001b[1;33m\u001b[0m\u001b[1;33m\u001b[0m\u001b[0m\n\u001b[0m\u001b[0;32m  10523\u001b[0m     \u001b[1;32mexcept\u001b[0m \u001b[0m_core\u001b[0m\u001b[1;33m.\u001b[0m\u001b[0m_FallbackException\u001b[0m\u001b[1;33m:\u001b[0m\u001b[1;33m\u001b[0m\u001b[1;33m\u001b[0m\u001b[0m\n\u001b[0;32m  10524\u001b[0m       \u001b[1;32mpass\u001b[0m\u001b[1;33m\u001b[0m\u001b[1;33m\u001b[0m\u001b[0m\n",
      "\u001b[1;32m~\\.conda\\envs\\quant\\lib\\site-packages\\tensorflow\\python\\framework\\ops.py\u001b[0m in \u001b[0;36mraise_from_not_ok_status\u001b[1;34m(e, name)\u001b[0m\n\u001b[0;32m   6841\u001b[0m   \u001b[0mmessage\u001b[0m \u001b[1;33m=\u001b[0m \u001b[0me\u001b[0m\u001b[1;33m.\u001b[0m\u001b[0mmessage\u001b[0m \u001b[1;33m+\u001b[0m \u001b[1;33m(\u001b[0m\u001b[1;34m\" name: \"\u001b[0m \u001b[1;33m+\u001b[0m \u001b[0mname\u001b[0m \u001b[1;32mif\u001b[0m \u001b[0mname\u001b[0m \u001b[1;32mis\u001b[0m \u001b[1;32mnot\u001b[0m \u001b[1;32mNone\u001b[0m \u001b[1;32melse\u001b[0m \u001b[1;34m\"\"\u001b[0m\u001b[1;33m)\u001b[0m\u001b[1;33m\u001b[0m\u001b[1;33m\u001b[0m\u001b[0m\n\u001b[0;32m   6842\u001b[0m   \u001b[1;31m# pylint: disable=protected-access\u001b[0m\u001b[1;33m\u001b[0m\u001b[1;33m\u001b[0m\u001b[1;33m\u001b[0m\u001b[0m\n\u001b[1;32m-> 6843\u001b[1;33m   \u001b[0msix\u001b[0m\u001b[1;33m.\u001b[0m\u001b[0mraise_from\u001b[0m\u001b[1;33m(\u001b[0m\u001b[0mcore\u001b[0m\u001b[1;33m.\u001b[0m\u001b[0m_status_to_exception\u001b[0m\u001b[1;33m(\u001b[0m\u001b[0me\u001b[0m\u001b[1;33m.\u001b[0m\u001b[0mcode\u001b[0m\u001b[1;33m,\u001b[0m \u001b[0mmessage\u001b[0m\u001b[1;33m)\u001b[0m\u001b[1;33m,\u001b[0m \u001b[1;32mNone\u001b[0m\u001b[1;33m)\u001b[0m\u001b[1;33m\u001b[0m\u001b[1;33m\u001b[0m\u001b[0m\n\u001b[0m\u001b[0;32m   6844\u001b[0m   \u001b[1;31m# pylint: enable=protected-access\u001b[0m\u001b[1;33m\u001b[0m\u001b[1;33m\u001b[0m\u001b[1;33m\u001b[0m\u001b[0m\n\u001b[0;32m   6845\u001b[0m \u001b[1;33m\u001b[0m\u001b[0m\n",
      "\u001b[1;32m~\\.conda\\envs\\quant\\lib\\site-packages\\six.py\u001b[0m in \u001b[0;36mraise_from\u001b[1;34m(value, from_value)\u001b[0m\n",
      "\u001b[1;31mInvalidArgumentError\u001b[0m: Value for attr 'Tidx' of float is not in the list of allowed values: int32, int64\n\t; NodeDef: {{node Sum}}; Op<name=Sum; signature=input:T, reduction_indices:Tidx -> output:T; attr=keep_dims:bool,default=false; attr=T:type,allowed=[DT_FLOAT, DT_DOUBLE, DT_INT32, DT_UINT8, DT_INT16, ..., DT_UINT16, DT_COMPLEX128, DT_HALF, DT_UINT32, DT_UINT64]; attr=Tidx:type,default=DT_INT32,allowed=[DT_INT32, DT_INT64]> [Op:Sum]"
     ]
    }
   ],
   "source": [
    "tf.reduce_sum(y,resid)"
   ]
  },
  {
   "cell_type": "code",
   "execution_count": 69,
   "metadata": {},
   "outputs": [
    {
     "data": {
      "text/plain": [
       "<tf.Tensor: shape=(1, 1), dtype=float32, numpy=array([[-0.01402836]], dtype=float32)>"
      ]
     },
     "execution_count": 69,
     "metadata": {},
     "output_type": "execute_result"
    }
   ],
   "source": [
    "tf.transpose(y)@resid"
   ]
  },
  {
   "cell_type": "code",
   "execution_count": 6,
   "metadata": {
    "execution": {
     "iopub.execute_input": "2022-12-01T08:55:13.249131Z",
     "iopub.status.busy": "2022-12-01T08:55:13.249131Z",
     "iopub.status.idle": "2022-12-01T08:55:13.275241Z",
     "shell.execute_reply": "2022-12-01T08:55:13.275241Z",
     "shell.execute_reply.started": "2022-12-01T08:55:13.249131Z"
    }
   },
   "outputs": [
    {
     "ename": "ModuleNotFoundError",
     "evalue": "No module named 'torch'",
     "output_type": "error",
     "traceback": [
      "\u001b[1;31m---------------------------------------------------------------------------\u001b[0m",
      "\u001b[1;31mModuleNotFoundError\u001b[0m                       Traceback (most recent call last)",
      "Cell \u001b[1;32mIn [6], line 1\u001b[0m\n\u001b[1;32m----> 1\u001b[0m \u001b[38;5;28;01mimport\u001b[39;00m \u001b[38;5;21;01mtorch\u001b[39;00m \n\u001b[0;32m      2\u001b[0m \u001b[38;5;28;01mimport\u001b[39;00m \u001b[38;5;21;01mtorch\u001b[39;00m\u001b[38;5;21;01m.\u001b[39;00m\u001b[38;5;21;01moptim\u001b[39;00m \u001b[38;5;28;01mas\u001b[39;00m \u001b[38;5;21;01mopt\u001b[39;00m\n\u001b[0;32m      4\u001b[0m MAX_ITER\u001b[38;5;241m=\u001b[39m\u001b[38;5;241m10\u001b[39m\n",
      "\u001b[1;31mModuleNotFoundError\u001b[0m: No module named 'torch'"
     ]
    }
   ],
   "source": [
    "import torch \n",
    "import torch.optim as opt\n",
    "\n",
    "MAX_ITER=10\n",
    "ADAM_ITER=100\n",
    "rho=1.0\n",
    "\n",
    "x = torch.nn.Parameter(torch.tensor(np.zeros((n, 1)))) # parameter to optimze\n",
    "y = torch.nn.Parameter(torch.tensor(np.zeros((m, 1)))) # (multiplier) parameter to find\n",
    "\n",
    "optimizer = opt.Adam([x], amsgrad=True, lr = 0.01) # Define a optimizer\n",
    "\n",
    "A_t = torch.tensor(A) # convert numpy array to tensor\n",
    "b_t = torch.tensor(b)\n",
    "\n",
    "for k in np.arange(0,MAX_ITER):      # loop over dual ascent\n",
    "    for l in np.arange(0,ADAM_ITER): # loop over adam steps\n",
    "        resid = torch.matmul(A_t,x)-b_t\n",
    "        loss = torch.norm(x,1) +  torch.matmul(y.T,resid)+ rho/2.0*torch.norm(resid)**2\n",
    "        loss.backward()\n",
    "        optimizer.step()\n",
    "        optimizer.zero_grad()\n",
    "\n",
    "    with torch.no_grad():\n",
    "        y = y + rho*resid\n",
    "    if k % 2 == 0:\n",
    "        print(loss.item())\n",
    "        "
   ]
  },
  {
   "cell_type": "code",
   "execution_count": null,
   "metadata": {},
   "outputs": [],
   "source": [
    "tf.transpose(y)*resid"
   ]
  },
  {
   "cell_type": "code",
   "execution_count": 20,
   "metadata": {},
   "outputs": [],
   "source": [
    "df = df>0"
   ]
  },
  {
   "cell_type": "code",
   "execution_count": 8,
   "metadata": {},
   "outputs": [],
   "source": [
    "df[df>0]=99"
   ]
  },
  {
   "cell_type": "code",
   "execution_count": 6,
   "metadata": {},
   "outputs": [],
   "source": [
    "df[~(df>0)]=99"
   ]
  },
  {
   "cell_type": "code",
   "execution_count": 21,
   "metadata": {},
   "outputs": [
    {
     "data": {
      "text/html": [
       "<div>\n",
       "<style scoped>\n",
       "    .dataframe tbody tr th:only-of-type {\n",
       "        vertical-align: middle;\n",
       "    }\n",
       "\n",
       "    .dataframe tbody tr th {\n",
       "        vertical-align: top;\n",
       "    }\n",
       "\n",
       "    .dataframe thead th {\n",
       "        text-align: right;\n",
       "    }\n",
       "</style>\n",
       "<table border=\"1\" class=\"dataframe\">\n",
       "  <thead>\n",
       "    <tr style=\"text-align: right;\">\n",
       "      <th></th>\n",
       "      <th>0</th>\n",
       "      <th>1</th>\n",
       "    </tr>\n",
       "  </thead>\n",
       "  <tbody>\n",
       "    <tr>\n",
       "      <th>0</th>\n",
       "      <td>False</td>\n",
       "      <td>False</td>\n",
       "    </tr>\n",
       "    <tr>\n",
       "      <th>1</th>\n",
       "      <td>False</td>\n",
       "      <td>False</td>\n",
       "    </tr>\n",
       "    <tr>\n",
       "      <th>2</th>\n",
       "      <td>False</td>\n",
       "      <td>True</td>\n",
       "    </tr>\n",
       "    <tr>\n",
       "      <th>3</th>\n",
       "      <td>True</td>\n",
       "      <td>False</td>\n",
       "    </tr>\n",
       "    <tr>\n",
       "      <th>4</th>\n",
       "      <td>True</td>\n",
       "      <td>False</td>\n",
       "    </tr>\n",
       "  </tbody>\n",
       "</table>\n",
       "</div>"
      ],
      "text/plain": [
       "       0      1\n",
       "0  False  False\n",
       "1  False  False\n",
       "2  False   True\n",
       "3   True  False\n",
       "4   True  False"
      ]
     },
     "execution_count": 21,
     "metadata": {},
     "output_type": "execute_result"
    }
   ],
   "source": [
    "df"
   ]
  },
  {
   "cell_type": "code",
   "execution_count": 9,
   "metadata": {},
   "outputs": [
    {
     "data": {
      "text/html": [
       "<div>\n",
       "<style scoped>\n",
       "    .dataframe tbody tr th:only-of-type {\n",
       "        vertical-align: middle;\n",
       "    }\n",
       "\n",
       "    .dataframe tbody tr th {\n",
       "        vertical-align: top;\n",
       "    }\n",
       "\n",
       "    .dataframe thead th {\n",
       "        text-align: right;\n",
       "    }\n",
       "</style>\n",
       "<table border=\"1\" class=\"dataframe\">\n",
       "  <thead>\n",
       "    <tr style=\"text-align: right;\">\n",
       "      <th></th>\n",
       "      <th>0</th>\n",
       "      <th>1</th>\n",
       "    </tr>\n",
       "  </thead>\n",
       "  <tbody>\n",
       "    <tr>\n",
       "      <th>0</th>\n",
       "      <td>True</td>\n",
       "      <td>True</td>\n",
       "    </tr>\n",
       "    <tr>\n",
       "      <th>1</th>\n",
       "      <td>True</td>\n",
       "      <td>True</td>\n",
       "    </tr>\n",
       "    <tr>\n",
       "      <th>2</th>\n",
       "      <td>False</td>\n",
       "      <td>True</td>\n",
       "    </tr>\n",
       "    <tr>\n",
       "      <th>3</th>\n",
       "      <td>False</td>\n",
       "      <td>False</td>\n",
       "    </tr>\n",
       "    <tr>\n",
       "      <th>4</th>\n",
       "      <td>False</td>\n",
       "      <td>False</td>\n",
       "    </tr>\n",
       "  </tbody>\n",
       "</table>\n",
       "</div>"
      ],
      "text/plain": [
       "       0      1\n",
       "0   True   True\n",
       "1   True   True\n",
       "2  False   True\n",
       "3  False  False\n",
       "4  False  False"
      ]
     },
     "execution_count": 9,
     "metadata": {},
     "output_type": "execute_result"
    }
   ],
   "source": [
    "d2 = df>0\n",
    "d2"
   ]
  },
  {
   "cell_type": "code",
   "execution_count": 10,
   "metadata": {},
   "outputs": [],
   "source": [
    "d2[d2] = 'A'"
   ]
  },
  {
   "cell_type": "code",
   "execution_count": 11,
   "metadata": {},
   "outputs": [
    {
     "data": {
      "text/html": [
       "<div>\n",
       "<style scoped>\n",
       "    .dataframe tbody tr th:only-of-type {\n",
       "        vertical-align: middle;\n",
       "    }\n",
       "\n",
       "    .dataframe tbody tr th {\n",
       "        vertical-align: top;\n",
       "    }\n",
       "\n",
       "    .dataframe thead th {\n",
       "        text-align: right;\n",
       "    }\n",
       "</style>\n",
       "<table border=\"1\" class=\"dataframe\">\n",
       "  <thead>\n",
       "    <tr style=\"text-align: right;\">\n",
       "      <th></th>\n",
       "      <th>0</th>\n",
       "      <th>1</th>\n",
       "    </tr>\n",
       "  </thead>\n",
       "  <tbody>\n",
       "    <tr>\n",
       "      <th>0</th>\n",
       "      <td>A</td>\n",
       "      <td>A</td>\n",
       "    </tr>\n",
       "    <tr>\n",
       "      <th>1</th>\n",
       "      <td>A</td>\n",
       "      <td>A</td>\n",
       "    </tr>\n",
       "    <tr>\n",
       "      <th>2</th>\n",
       "      <td>False</td>\n",
       "      <td>A</td>\n",
       "    </tr>\n",
       "    <tr>\n",
       "      <th>3</th>\n",
       "      <td>False</td>\n",
       "      <td>False</td>\n",
       "    </tr>\n",
       "    <tr>\n",
       "      <th>4</th>\n",
       "      <td>False</td>\n",
       "      <td>False</td>\n",
       "    </tr>\n",
       "  </tbody>\n",
       "</table>\n",
       "</div>"
      ],
      "text/plain": [
       "       0      1\n",
       "0      A      A\n",
       "1      A      A\n",
       "2  False      A\n",
       "3  False  False\n",
       "4  False  False"
      ]
     },
     "execution_count": 11,
     "metadata": {},
     "output_type": "execute_result"
    }
   ],
   "source": [
    "d2"
   ]
  },
  {
   "cell_type": "code",
   "execution_count": 14,
   "metadata": {},
   "outputs": [],
   "source": [
    "d2[d2==False] = 'B'"
   ]
  },
  {
   "cell_type": "code",
   "execution_count": 15,
   "metadata": {},
   "outputs": [
    {
     "data": {
      "text/html": [
       "<div>\n",
       "<style scoped>\n",
       "    .dataframe tbody tr th:only-of-type {\n",
       "        vertical-align: middle;\n",
       "    }\n",
       "\n",
       "    .dataframe tbody tr th {\n",
       "        vertical-align: top;\n",
       "    }\n",
       "\n",
       "    .dataframe thead th {\n",
       "        text-align: right;\n",
       "    }\n",
       "</style>\n",
       "<table border=\"1\" class=\"dataframe\">\n",
       "  <thead>\n",
       "    <tr style=\"text-align: right;\">\n",
       "      <th></th>\n",
       "      <th>0</th>\n",
       "      <th>1</th>\n",
       "    </tr>\n",
       "  </thead>\n",
       "  <tbody>\n",
       "    <tr>\n",
       "      <th>0</th>\n",
       "      <td>A</td>\n",
       "      <td>A</td>\n",
       "    </tr>\n",
       "    <tr>\n",
       "      <th>1</th>\n",
       "      <td>A</td>\n",
       "      <td>A</td>\n",
       "    </tr>\n",
       "    <tr>\n",
       "      <th>2</th>\n",
       "      <td>B</td>\n",
       "      <td>A</td>\n",
       "    </tr>\n",
       "    <tr>\n",
       "      <th>3</th>\n",
       "      <td>B</td>\n",
       "      <td>B</td>\n",
       "    </tr>\n",
       "    <tr>\n",
       "      <th>4</th>\n",
       "      <td>B</td>\n",
       "      <td>B</td>\n",
       "    </tr>\n",
       "  </tbody>\n",
       "</table>\n",
       "</div>"
      ],
      "text/plain": [
       "   0  1\n",
       "0  A  A\n",
       "1  A  A\n",
       "2  B  A\n",
       "3  B  B\n",
       "4  B  B"
      ]
     },
     "execution_count": 15,
     "metadata": {},
     "output_type": "execute_result"
    }
   ],
   "source": [
    "df"
   ]
  },
  {
   "cell_type": "code",
   "execution_count": 22,
   "metadata": {},
   "outputs": [],
   "source": [
    "x = np.where(x,'a','b')"
   ]
  },
  {
   "cell_type": "code",
   "execution_count": 23,
   "metadata": {},
   "outputs": [
    {
     "data": {
      "text/plain": [
       "array([['b', 'b'],\n",
       "       ['b', 'b'],\n",
       "       ['b', 'a'],\n",
       "       ['a', 'b'],\n",
       "       ['a', 'b']], dtype='<U1')"
      ]
     },
     "execution_count": 23,
     "metadata": {},
     "output_type": "execute_result"
    }
   ],
   "source": [
    "df"
   ]
  },
  {
   "cell_type": "code",
   "execution_count": 7,
   "metadata": {
    "execution": {
     "iopub.execute_input": "2022-12-01T08:55:19.134214Z",
     "iopub.status.busy": "2022-12-01T08:55:19.134214Z",
     "iopub.status.idle": "2022-12-01T08:55:19.158497Z",
     "shell.execute_reply": "2022-12-01T08:55:19.158497Z",
     "shell.execute_reply.started": "2022-12-01T08:55:19.134214Z"
    }
   },
   "outputs": [
    {
     "ename": "ModuleNotFoundError",
     "evalue": "No module named 'zipline'",
     "output_type": "error",
     "traceback": [
      "\u001b[1;31m---------------------------------------------------------------------------\u001b[0m",
      "\u001b[1;31mModuleNotFoundError\u001b[0m                       Traceback (most recent call last)",
      "Cell \u001b[1;32mIn [7], line 1\u001b[0m\n\u001b[1;32m----> 1\u001b[0m \u001b[38;5;28;01mfrom\u001b[39;00m \u001b[38;5;21;01mzipline\u001b[39;00m\u001b[38;5;21;01m.\u001b[39;00m\u001b[38;5;21;01mapi\u001b[39;00m \u001b[38;5;28;01mimport\u001b[39;00m order_target, record, symbol\n\u001b[0;32m      4\u001b[0m \u001b[38;5;28;01mdef\u001b[39;00m \u001b[38;5;21minitialize\u001b[39m(context):\n\u001b[0;32m      5\u001b[0m     context\u001b[38;5;241m.\u001b[39mi \u001b[38;5;241m=\u001b[39m \u001b[38;5;241m0\u001b[39m\n",
      "\u001b[1;31mModuleNotFoundError\u001b[0m: No module named 'zipline'"
     ]
    }
   ],
   "source": [
    "from zipline.api import order_target, record, symbol\n",
    "\n",
    "\n",
    "def initialize(context):\n",
    "    context.i = 0\n",
    "    context.asset = symbol('AAPL')\n",
    "\n",
    "\n",
    "def handle_data(context, data):\n",
    "    # Skip first 300 days to get full windows\n",
    "    context.i += 1\n",
    "    if context.i < 300:\n",
    "        return\n",
    "\n",
    "    # Compute averages\n",
    "    # data.history() has to be called with the same params\n",
    "    # from above and returns a pandas dataframe.\n",
    "    short_mavg = data.history(context.asset, 'price', bar_count=100, frequency=\"1d\").mean()\n",
    "    long_mavg = data.history(context.asset, 'price', bar_count=300, frequency=\"1d\").mean()\n",
    "\n",
    "    # Trading logic\n",
    "    if short_mavg > long_mavg:\n",
    "        # order_target orders as many shares as needed to\n",
    "        # achieve the desired number of shares.\n",
    "        order_target(context.asset, 100)\n",
    "    elif short_mavg < long_mavg:\n",
    "        order_target(context.asset, 0)\n",
    "\n",
    "    # Save values for later inspection\n",
    "    record(AAPL=data.current(context.asset, 'price'),\n",
    "           short_mavg=short_mavg,\n",
    "           long_mavg=long_mavg)"
   ]
  },
  {
   "cell_type": "code",
   "execution_count": null,
   "metadata": {},
   "outputs": [],
   "source": [
    "import tensorflow as tf"
   ]
  },
  {
   "cell_type": "code",
   "execution_count": 8,
   "metadata": {
    "ExecuteTime": {
     "end_time": "2021-11-15T14:10:45.315589Z",
     "start_time": "2021-11-15T14:10:44.228578Z"
    }
   },
   "outputs": [
    {
     "ename": "ModuleNotFoundError",
     "evalue": "No module named 'pyfinance'",
     "output_type": "error",
     "traceback": [
      "\u001b[1;31m---------------------------------------------------------------------------\u001b[0m",
      "\u001b[1;31mModuleNotFoundError\u001b[0m                       Traceback (most recent call last)",
      "\u001b[1;32m~\\AppData\\Local\\Temp/ipykernel_20728/3627363904.py\u001b[0m in \u001b[0;36m<module>\u001b[1;34m\u001b[0m\n\u001b[1;32m----> 1\u001b[1;33m \u001b[1;32mimport\u001b[0m \u001b[0mpyfinance\u001b[0m \u001b[1;32mas\u001b[0m \u001b[0mpyf\u001b[0m\u001b[1;33m\u001b[0m\u001b[1;33m\u001b[0m\u001b[0m\n\u001b[0m",
      "\u001b[1;31mModuleNotFoundError\u001b[0m: No module named 'pyfinance'"
     ]
    }
   ],
   "source": [
    "import pyfinance as pyf"
   ]
  },
  {
   "cell_type": "code",
   "execution_count": 16,
   "metadata": {
    "ExecuteTime": {
     "end_time": "2021-11-15T14:10:51.330295Z",
     "start_time": "2021-11-15T14:10:50.909291Z"
    },
    "execution": {
     "iopub.execute_input": "2022-12-01T15:37:39.039780Z",
     "iopub.status.busy": "2022-12-01T15:37:39.038781Z",
     "iopub.status.idle": "2022-12-01T15:37:39.066060Z",
     "shell.execute_reply": "2022-12-01T15:37:39.066060Z",
     "shell.execute_reply.started": "2022-12-01T15:37:39.039780Z"
    },
    "tags": []
   },
   "outputs": [
    {
     "data": {
      "text/html": [
       "<div>\n",
       "<style scoped>\n",
       "    .dataframe tbody tr th:only-of-type {\n",
       "        vertical-align: middle;\n",
       "    }\n",
       "\n",
       "    .dataframe tbody tr th {\n",
       "        vertical-align: top;\n",
       "    }\n",
       "\n",
       "    .dataframe thead th {\n",
       "        text-align: right;\n",
       "    }\n",
       "</style>\n",
       "<table border=\"1\" class=\"dataframe\">\n",
       "  <thead>\n",
       "    <tr style=\"text-align: right;\">\n",
       "      <th></th>\n",
       "      <th>Quote Address</th>\n",
       "      <th>Feed Address</th>\n",
       "    </tr>\n",
       "  </thead>\n",
       "  <tbody>\n",
       "    <tr>\n",
       "      <th>0</th>\n",
       "      <td>Bond.100475.05-24-2023.2.00000</td>\n",
       "      <td>MAQP|C_NST475=MAQ</td>\n",
       "    </tr>\n",
       "    <tr>\n",
       "      <th>1</th>\n",
       "      <td>Bond.ABB FINANCE 0% EUR 19/01-2030.01-19-2030....</td>\n",
       "      <td>MAQP|C_ABBF19/01-30=MAQ</td>\n",
       "    </tr>\n",
       "    <tr>\n",
       "      <th>2</th>\n",
       "      <td>Bond.ABB FINANCE 0.625% EUR 03/05-23.05-03-202...</td>\n",
       "      <td>MAQP|C_ABB03/05-23=MAQ</td>\n",
       "    </tr>\n",
       "    <tr>\n",
       "      <th>3</th>\n",
       "      <td>Bond.ABB FINANCE 0.750% EUR 16/05-24.05-16-202...</td>\n",
       "      <td>MAQP|C_ABBF16/05-24=MAQ</td>\n",
       "    </tr>\n",
       "    <tr>\n",
       "      <th>4</th>\n",
       "      <td>Bond.ADB 0.2425% SEK 14/04-2023.04-14-2023.0.2...</td>\n",
       "      <td>MAQP|C_ADB14/04-23=MAQ</td>\n",
       "    </tr>\n",
       "  </tbody>\n",
       "</table>\n",
       "</div>"
      ],
      "text/plain": [
       "                                       Quote Address             Feed Address\n",
       "0                     Bond.100475.05-24-2023.2.00000        MAQP|C_NST475=MAQ\n",
       "1  Bond.ABB FINANCE 0% EUR 19/01-2030.01-19-2030....  MAQP|C_ABBF19/01-30=MAQ\n",
       "2  Bond.ABB FINANCE 0.625% EUR 03/05-23.05-03-202...   MAQP|C_ABB03/05-23=MAQ\n",
       "3  Bond.ABB FINANCE 0.750% EUR 16/05-24.05-16-202...  MAQP|C_ABBF16/05-24=MAQ\n",
       "4  Bond.ADB 0.2425% SEK 14/04-2023.04-14-2023.0.2...   MAQP|C_ADB14/04-23=MAQ"
      ]
     },
     "execution_count": 16,
     "metadata": {},
     "output_type": "execute_result"
    }
   ],
   "source": [
    "import pandas as pd\n",
    "import sqlalchemy as sql\n",
    "con = sql.create_engine('mssql+pyodbc://fecquant-dev-db', fast_executemany=True)\n",
    "df = pd.read_csv('C:\\\\Temp\\\\cal_maq.csv',sep=';')\n",
    "df.head()"
   ]
  },
  {
   "cell_type": "code",
   "execution_count": 27,
   "metadata": {
    "ExecuteTime": {
     "end_time": "2021-11-15T14:13:34.716746Z",
     "start_time": "2021-11-15T14:12:42.444881Z"
    },
    "execution": {
     "iopub.execute_input": "2022-12-01T15:54:15.886321Z",
     "iopub.status.busy": "2022-12-01T15:54:15.885322Z",
     "iopub.status.idle": "2022-12-01T15:54:15.891104Z",
     "shell.execute_reply": "2022-12-01T15:54:15.891104Z",
     "shell.execute_reply.started": "2022-12-01T15:54:15.886321Z"
    },
    "tags": []
   },
   "outputs": [
    {
     "data": {
      "text/plain": [
       "Quote Address    object\n",
       "Feed Address     object\n",
       "dtype: object"
      ]
     },
     "execution_count": 27,
     "metadata": {},
     "output_type": "execute_result"
    }
   ],
   "source": [
    "from sqlalchemy.types import BIGINT\n",
    "#df.to_sql('tmp3',con=con,index=True,dtype={'ID': BIGINT})\n",
    "#print(\"CREATE TABLE tmp5 (id INTEGER PRIMARY KEY AUTOINCREMENT, \" + \",\".join([f\"{c.dtypes}\" for c in df.columns]) + \")\" )\n",
    "#con.execute(\"CREATE TABLE tmp5 (id INTEGER PRIMARY KEY AUTOINCREMENT, \" +\n",
    "#         \",\".join([f\"{c.dtype}\" for c in df.columns]) + \")\" )\n",
    "\n",
    "#df.to_sql('tmp5',con=con,index=True,if_exists='append')\n",
    "df.dtypes"
   ]
  },
  {
   "cell_type": "code",
   "execution_count": 19,
   "metadata": {
    "ExecuteTime": {
     "end_time": "2021-11-15T14:27:01.304414Z",
     "start_time": "2021-11-15T14:27:01.284415Z"
    }
   },
   "outputs": [
    {
     "ename": "AttributeError",
     "evalue": "module 'findatapy' has no attribute 'MarketDataRequest'",
     "output_type": "error",
     "traceback": [
      "\u001b[1;31m---------------------------------------------------------------------------\u001b[0m",
      "\u001b[1;31mAttributeError\u001b[0m                            Traceback (most recent call last)",
      "\u001b[1;32m~\\AppData\\Local\\Temp/ipykernel_20728/3317657988.py\u001b[0m in \u001b[0;36m<module>\u001b[1;34m\u001b[0m\n\u001b[1;32m----> 1\u001b[1;33m \u001b[0mmd\u001b[0m \u001b[1;33m=\u001b[0m \u001b[0mfp\u001b[0m\u001b[1;33m.\u001b[0m\u001b[0mMarketDataRequest\u001b[0m\u001b[1;33m(\u001b[0m\u001b[0mstart_date\u001b[0m \u001b[1;33m=\u001b[0m \u001b[1;34m'1990-01-01'\u001b[0m\u001b[1;33m,\u001b[0m \u001b[0mdata_source\u001b[0m\u001b[1;33m=\u001b[0m\u001b[1;34m'bloomberg'\u001b[0m\u001b[1;33m,\u001b[0m \u001b[0mtickers\u001b[0m\u001b[1;33m=\u001b[0m\u001b[1;33m[\u001b[0m\u001b[1;34m'IBM US Equity'\u001b[0m\u001b[1;33m]\u001b[0m\u001b[1;33m,\u001b[0m \u001b[0mfields\u001b[0m\u001b[1;33m=\u001b[0m\u001b[1;33m[\u001b[0m\u001b[1;34m'close'\u001b[0m\u001b[1;33m]\u001b[0m\u001b[1;33m)\u001b[0m\u001b[1;33m\u001b[0m\u001b[1;33m\u001b[0m\u001b[0m\n\u001b[0m",
      "\u001b[1;31mAttributeError\u001b[0m: module 'findatapy' has no attribute 'MarketDataRequest'"
     ]
    }
   ],
   "source": [
    "md = fp.MarketDataRequest(start_date = '1990-01-01', data_source='bloomberg', tickers=['IBM US Equity'], fields=['close'])dtype"
   ]
  },
  {
   "cell_type": "code",
   "execution_count": 20,
   "metadata": {
    "ExecuteTime": {
     "end_time": "2021-11-15T14:27:05.754543Z",
     "start_time": "2021-11-15T14:27:05.742542Z"
    }
   },
   "outputs": [
    {
     "data": {
      "text/plain": [
       "<findatapy.util.swimpool.SwimPool at 0x295713ce4c0>"
      ]
     },
     "execution_count": 20,
     "metadata": {},
     "output_type": "execute_result"
    }
   ],
   "source": [
    "from findatapy.util import SwimPool; SwimPool()"
   ]
  },
  {
   "cell_type": "code",
   "execution_count": 21,
   "metadata": {
    "ExecuteTime": {
     "end_time": "2021-11-15T14:27:07.092984Z",
     "start_time": "2021-11-15T14:27:07.087980Z"
    }
   },
   "outputs": [],
   "source": [
    "from findatapy.market import Market, MarketDataRequest, MarketDataGenerator\n"
   ]
  },
  {
   "cell_type": "code",
   "execution_count": 29,
   "metadata": {
    "ExecuteTime": {
     "end_time": "2021-11-15T14:30:19.869942Z",
     "start_time": "2021-11-15T14:30:19.863940Z"
    }
   },
   "outputs": [],
   "source": [
    "md = MarketDataRequest(start_date = '1990-01-01', data_source='bloomberg', vendor_tickers=['IBM US Equity'], vendor_fields=['close'])"
   ]
  },
  {
   "cell_type": "code",
   "execution_count": 30,
   "metadata": {
    "ExecuteTime": {
     "end_time": "2021-11-15T14:30:35.252910Z",
     "start_time": "2021-11-15T14:30:23.286012Z"
    }
   },
   "outputs": [
    {
     "name": "stdout",
     "output_type": "stream",
     "text": [
      "2021-11-15 15:30:23,301 - findatapy.market.datavendorbbg - INFO - Request Bloomberg data\n",
      "2021-11-15 15:30:23,330 - findatapy.market.datavendorbbg - INFO - Starting Bloomberg session...\n",
      "2021-11-15 15:30:23,567 - findatapy.market.datavendorbbg - INFO - Returning session...\n",
      "2021-11-15 15:30:25,817 - findatapy.market.datavendorbbg - INFO - Creating request...\n",
      "2021-11-15 15:30:25,859 - findatapy.market.datavendorbbg - INFO - Sending Bloomberg Daily Request:HistoricalDataRequest = {\n",
      "    startDate = \"20211115\"\n",
      "    endDate = \"20211115\"\n",
      "    fields[] = {\n",
      "        \"close\"\n",
      "    }\n",
      "    securities[] = {\n",
      "        \"IBM US Equity\"\n",
      "    }\n",
      "}\n",
      "\n",
      "2021-11-15 15:30:26,294 - findatapy.market.datavendorbbg - INFO - Waiting for data to be returned...\n",
      "2021-11-15 15:30:32,914 - findatapy.market.datavendorbbg - WARNING - No elements for ticker.\n",
      "2021-11-15 15:30:32,971 - findatapy.market.datavendorbbg - INFO - Completed request from Bloomberg.\n",
      "2021-11-15 15:30:33,106 - findatapy.market.marketdatagenerator - WARNING - No data returned for ['IBM US Equity']\n",
      "2021-11-15 15:30:35,230 - findatapy.market.ioengine - WARNING - Couldn't push MarketDataRequest_810__abstract_curve_key-None__base_depos_currencies-EUR_GBP_AUD_NZD_USD_CAD_CHF_NOK_SEK_JPY__base_depos_tenor-ON_TN_SN_1W_2W_3W_1M_2M_3M_4M_6M_9M_1Y_2Y_3Y_5Y__category-None__category_key-backtest_default-cat_bloomberg_daily_NYC__cut-NYC__data_engine-None__data_source-bloomberg__environment-backtest__expiry_date-NaT__fields-close__finish_date-2021-11-15 14:13:13_373442__freeform_md_request-{}__freq-daily__freq_mult-1__fx_forwards_tenor-ON_TN_SN_1W_2W_3W_1M_2M_3M_4M_6M_9M_1Y_2Y_3Y_5Y__fx_vol_part-V_25R_10R_25B_10B__fx_vol_tenor-ON_1W_2W_3W_1M_2M_3M_4M_6M_9M_1Y_2Y_3Y_5Y__gran_freq-None__list_threads-1__push_to_cache-True__resample-None__resample_how-last__split_request_chunks-0__start_date-2021-11-15 14:30:19_866940__tickers-IBM US Equity__trade_side-trade__vendor_fields-close__vendor_tickers-IBM US Equity_df to Redis: Error 10061 connecting to 127.0.0.1:6379. No connection could be made because the target machine actively refused it.\n"
     ]
    }
   ],
   "source": [
    "df =market.fetch_market(md)"
   ]
  },
  {
   "cell_type": "code",
   "execution_count": 18,
   "metadata": {
    "ExecuteTime": {
     "end_time": "2021-11-15T14:22:38.149979Z",
     "start_time": "2021-11-15T14:22:37.142982Z"
    }
   },
   "outputs": [
    {
     "ename": "ImportError",
     "evalue": "Unable to find a usable engine; tried using: 'pyarrow', 'fastparquet'.\nA suitable version of pyarrow or fastparquet is required for parquet support.\nTrying to import the above resulted in these errors:\n - Missing optional dependency 'pyarrow'. pyarrow is required for parquet support. Use pip or conda to install pyarrow.\n - Missing optional dependency 'fastparquet'. fastparquet is required for parquet support. Use pip or conda to install fastparquet.",
     "output_type": "error",
     "traceback": [
      "\u001b[1;31m---------------------------------------------------------------------------\u001b[0m",
      "\u001b[1;31mImportError\u001b[0m                               Traceback (most recent call last)",
      "\u001b[1;32m~\\AppData\\Local\\Temp/ipykernel_20728/132138564.py\u001b[0m in \u001b[0;36m<module>\u001b[1;34m\u001b[0m\n\u001b[1;32m----> 1\u001b[1;33m \u001b[0mmarket\u001b[0m \u001b[1;33m=\u001b[0m \u001b[0mMarket\u001b[0m\u001b[1;33m(\u001b[0m\u001b[0mmarket_data_generator\u001b[0m\u001b[1;33m=\u001b[0m\u001b[0mMarketDataGenerator\u001b[0m\u001b[1;33m(\u001b[0m\u001b[1;33m)\u001b[0m\u001b[1;33m)\u001b[0m\u001b[1;33m\u001b[0m\u001b[1;33m\u001b[0m\u001b[0m\n\u001b[0m",
      "\u001b[1;32m~\\AppData\\Roaming\\Python\\Python38\\site-packages\\findatapy\\market\\marketdatagenerator.py\u001b[0m in \u001b[0;36m__init__\u001b[1;34m(self)\u001b[0m\n\u001b[0;32m     40\u001b[0m     \u001b[1;32mdef\u001b[0m \u001b[0m__init__\u001b[0m\u001b[1;33m(\u001b[0m\u001b[0mself\u001b[0m\u001b[1;33m)\u001b[0m\u001b[1;33m:\u001b[0m\u001b[1;33m\u001b[0m\u001b[1;33m\u001b[0m\u001b[0m\n\u001b[0;32m     41\u001b[0m         \u001b[0mself\u001b[0m\u001b[1;33m.\u001b[0m\u001b[0mconfig\u001b[0m \u001b[1;33m=\u001b[0m \u001b[0mConfigManager\u001b[0m\u001b[1;33m(\u001b[0m\u001b[1;33m)\u001b[0m\u001b[1;33m.\u001b[0m\u001b[0mget_instance\u001b[0m\u001b[1;33m(\u001b[0m\u001b[1;33m)\u001b[0m\u001b[1;33m\u001b[0m\u001b[1;33m\u001b[0m\u001b[0m\n\u001b[1;32m---> 42\u001b[1;33m         \u001b[0mself\u001b[0m\u001b[1;33m.\u001b[0m\u001b[0mfilter\u001b[0m \u001b[1;33m=\u001b[0m \u001b[0mFilter\u001b[0m\u001b[1;33m(\u001b[0m\u001b[1;33m)\u001b[0m\u001b[1;33m\u001b[0m\u001b[1;33m\u001b[0m\u001b[0m\n\u001b[0m\u001b[0;32m     43\u001b[0m         \u001b[0mself\u001b[0m\u001b[1;33m.\u001b[0m\u001b[0mcalculations\u001b[0m \u001b[1;33m=\u001b[0m \u001b[0mCalculations\u001b[0m\u001b[1;33m(\u001b[0m\u001b[1;33m)\u001b[0m\u001b[1;33m\u001b[0m\u001b[1;33m\u001b[0m\u001b[0m\n\u001b[0;32m     44\u001b[0m         \u001b[0mself\u001b[0m\u001b[1;33m.\u001b[0m\u001b[0mio_engine\u001b[0m \u001b[1;33m=\u001b[0m \u001b[0mIOEngine\u001b[0m\u001b[1;33m(\u001b[0m\u001b[1;33m)\u001b[0m\u001b[1;33m\u001b[0m\u001b[1;33m\u001b[0m\u001b[0m\n",
      "\u001b[1;32m~\\AppData\\Roaming\\Python\\Python38\\site-packages\\findatapy\\timeseries\\filter.py\u001b[0m in \u001b[0;36m__init__\u001b[1;34m(self)\u001b[0m\n\u001b[0;32m     42\u001b[0m \u001b[1;33m\u001b[0m\u001b[0m\n\u001b[0;32m     43\u001b[0m     \u001b[1;32mdef\u001b[0m \u001b[0m__init__\u001b[0m\u001b[1;33m(\u001b[0m\u001b[0mself\u001b[0m\u001b[1;33m)\u001b[0m\u001b[1;33m:\u001b[0m\u001b[1;33m\u001b[0m\u001b[1;33m\u001b[0m\u001b[0m\n\u001b[1;32m---> 44\u001b[1;33m         \u001b[0mself\u001b[0m\u001b[1;33m.\u001b[0m\u001b[0m_calendar\u001b[0m \u001b[1;33m=\u001b[0m \u001b[0mCalendar\u001b[0m\u001b[1;33m(\u001b[0m\u001b[1;33m)\u001b[0m\u001b[1;33m\u001b[0m\u001b[1;33m\u001b[0m\u001b[0m\n\u001b[0m\u001b[0;32m     45\u001b[0m \u001b[1;33m\u001b[0m\u001b[0m\n\u001b[0;32m     46\u001b[0m     \u001b[1;32mdef\u001b[0m \u001b[0mfilter_time_series\u001b[0m\u001b[1;33m(\u001b[0m\u001b[0mself\u001b[0m\u001b[1;33m,\u001b[0m \u001b[0mmarket_data_request\u001b[0m\u001b[1;33m,\u001b[0m \u001b[0mdata_frame\u001b[0m\u001b[1;33m,\u001b[0m \u001b[0mpad_columns\u001b[0m\u001b[1;33m=\u001b[0m\u001b[1;32mFalse\u001b[0m\u001b[1;33m)\u001b[0m\u001b[1;33m:\u001b[0m\u001b[1;33m\u001b[0m\u001b[1;33m\u001b[0m\u001b[0m\n",
      "\u001b[1;32m~\\AppData\\Roaming\\Python\\Python38\\site-packages\\findatapy\\timeseries\\calendar.py\u001b[0m in \u001b[0;36m__init__\u001b[1;34m(self)\u001b[0m\n\u001b[0;32m     55\u001b[0m \u001b[1;33m\u001b[0m\u001b[0m\n\u001b[0;32m     56\u001b[0m     \u001b[1;32mdef\u001b[0m \u001b[0m__init__\u001b[0m\u001b[1;33m(\u001b[0m\u001b[0mself\u001b[0m\u001b[1;33m)\u001b[0m\u001b[1;33m:\u001b[0m\u001b[1;33m\u001b[0m\u001b[1;33m\u001b[0m\u001b[0m\n\u001b[1;32m---> 57\u001b[1;33m         \u001b[0mself\u001b[0m\u001b[1;33m.\u001b[0m\u001b[0m_holiday_df\u001b[0m \u001b[1;33m=\u001b[0m \u001b[0mpd\u001b[0m\u001b[1;33m.\u001b[0m\u001b[0mread_parquet\u001b[0m\u001b[1;33m(\u001b[0m\u001b[0mconstants\u001b[0m\u001b[1;33m.\u001b[0m\u001b[0mholidays_parquet_table\u001b[0m\u001b[1;33m)\u001b[0m\u001b[1;33m\u001b[0m\u001b[1;33m\u001b[0m\u001b[0m\n\u001b[0m\u001b[0;32m     58\u001b[0m \u001b[1;33m\u001b[0m\u001b[0m\n\u001b[0;32m     59\u001b[0m     \u001b[1;32mdef\u001b[0m \u001b[0mflatten_list_of_lists\u001b[0m\u001b[1;33m(\u001b[0m\u001b[0mself\u001b[0m\u001b[1;33m,\u001b[0m \u001b[0mlist_of_lists\u001b[0m\u001b[1;33m)\u001b[0m\u001b[1;33m:\u001b[0m\u001b[1;33m\u001b[0m\u001b[1;33m\u001b[0m\u001b[0m\n",
      "\u001b[1;32m~\\.conda\\envs\\quant\\lib\\site-packages\\pandas\\io\\parquet.py\u001b[0m in \u001b[0;36mread_parquet\u001b[1;34m(path, engine, columns, storage_options, use_nullable_dtypes, **kwargs)\u001b[0m\n\u001b[0;32m    491\u001b[0m     \u001b[0mDataFrame\u001b[0m\u001b[1;33m\u001b[0m\u001b[1;33m\u001b[0m\u001b[0m\n\u001b[0;32m    492\u001b[0m     \"\"\"\n\u001b[1;32m--> 493\u001b[1;33m     \u001b[0mimpl\u001b[0m \u001b[1;33m=\u001b[0m \u001b[0mget_engine\u001b[0m\u001b[1;33m(\u001b[0m\u001b[0mengine\u001b[0m\u001b[1;33m)\u001b[0m\u001b[1;33m\u001b[0m\u001b[1;33m\u001b[0m\u001b[0m\n\u001b[0m\u001b[0;32m    494\u001b[0m \u001b[1;33m\u001b[0m\u001b[0m\n\u001b[0;32m    495\u001b[0m     return impl.read(\n",
      "\u001b[1;32m~\\.conda\\envs\\quant\\lib\\site-packages\\pandas\\io\\parquet.py\u001b[0m in \u001b[0;36mget_engine\u001b[1;34m(engine)\u001b[0m\n\u001b[0;32m     51\u001b[0m                 \u001b[0merror_msgs\u001b[0m \u001b[1;33m+=\u001b[0m \u001b[1;34m\"\\n - \"\u001b[0m \u001b[1;33m+\u001b[0m \u001b[0mstr\u001b[0m\u001b[1;33m(\u001b[0m\u001b[0merr\u001b[0m\u001b[1;33m)\u001b[0m\u001b[1;33m\u001b[0m\u001b[1;33m\u001b[0m\u001b[0m\n\u001b[0;32m     52\u001b[0m \u001b[1;33m\u001b[0m\u001b[0m\n\u001b[1;32m---> 53\u001b[1;33m         raise ImportError(\n\u001b[0m\u001b[0;32m     54\u001b[0m             \u001b[1;34m\"Unable to find a usable engine; \"\u001b[0m\u001b[1;33m\u001b[0m\u001b[1;33m\u001b[0m\u001b[0m\n\u001b[0;32m     55\u001b[0m             \u001b[1;34m\"tried using: 'pyarrow', 'fastparquet'.\\n\"\u001b[0m\u001b[1;33m\u001b[0m\u001b[1;33m\u001b[0m\u001b[0m\n",
      "\u001b[1;31mImportError\u001b[0m: Unable to find a usable engine; tried using: 'pyarrow', 'fastparquet'.\nA suitable version of pyarrow or fastparquet is required for parquet support.\nTrying to import the above resulted in these errors:\n - Missing optional dependency 'pyarrow'. pyarrow is required for parquet support. Use pip or conda to install pyarrow.\n - Missing optional dependency 'fastparquet'. fastparquet is required for parquet support. Use pip or conda to install fastparquet."
     ]
    }
   ],
   "source": [
    " market = Market(market_data_generator=MarketDataGenerator())"
   ]
  },
  {
   "cell_type": "code",
   "execution_count": 24,
   "metadata": {
    "ExecuteTime": {
     "end_time": "2021-11-15T14:28:02.137175Z",
     "start_time": "2021-11-15T14:27:56.218827Z"
    }
   },
   "outputs": [],
   "source": [
    " market = Market(market_data_generator=MarketDataGenerator())"
   ]
  },
  {
   "cell_type": "code",
   "execution_count": 31,
   "metadata": {
    "ExecuteTime": {
     "end_time": "2021-11-15T14:33:18.019684Z",
     "start_time": "2021-11-15T14:33:18.014683Z"
    }
   },
   "outputs": [],
   "source": [
    "df"
   ]
  },
  {
   "cell_type": "code",
   "execution_count": 29,
   "metadata": {
    "execution": {
     "iopub.execute_input": "2022-12-08T09:29:10.168339Z",
     "iopub.status.busy": "2022-12-08T09:29:10.163339Z",
     "iopub.status.idle": "2022-12-08T09:29:10.192610Z",
     "shell.execute_reply": "2022-12-08T09:29:10.191603Z",
     "shell.execute_reply.started": "2022-12-08T09:29:10.168339Z"
    }
   },
   "outputs": [],
   "source": [
    "import duckdb"
   ]
  },
  {
   "cell_type": "code",
   "execution_count": 31,
   "metadata": {
    "execution": {
     "iopub.execute_input": "2022-12-08T09:29:19.677602Z",
     "iopub.status.busy": "2022-12-08T09:29:19.677602Z",
     "iopub.status.idle": "2022-12-08T09:29:19.681272Z",
     "shell.execute_reply": "2022-12-08T09:29:19.680236Z",
     "shell.execute_reply.started": "2022-12-08T09:29:19.677602Z"
    },
    "tags": []
   },
   "outputs": [],
   "source": [
    "import pandas as pd"
   ]
  },
  {
   "cell_type": "code",
   "execution_count": 32,
   "metadata": {
    "execution": {
     "iopub.execute_input": "2022-12-08T09:29:57.223920Z",
     "iopub.status.busy": "2022-12-08T09:29:57.223920Z",
     "iopub.status.idle": "2022-12-08T09:29:57.248697Z",
     "shell.execute_reply": "2022-12-08T09:29:57.248697Z",
     "shell.execute_reply.started": "2022-12-08T09:29:57.223920Z"
    }
   },
   "outputs": [],
   "source": [
    "d = duckdb.connect()"
   ]
  },
  {
   "cell_type": "code",
   "execution_count": 41,
   "metadata": {
    "execution": {
     "iopub.execute_input": "2022-12-08T09:35:10.941202Z",
     "iopub.status.busy": "2022-12-08T09:35:10.941202Z",
     "iopub.status.idle": "2022-12-08T09:35:10.963735Z",
     "shell.execute_reply": "2022-12-08T09:35:10.963735Z",
     "shell.execute_reply.started": "2022-12-08T09:35:10.941202Z"
    },
    "tags": []
   },
   "outputs": [
    {
     "name": "stderr",
     "output_type": "stream",
     "text": [
      "C:\\Users\\p901fyf\\AppData\\Local\\Temp\\ipykernel_12328\\3325128671.py:1: UserWarning: pandas only supports SQLAlchemy connectable (engine/connection) or database string URI or sqlite3 DBAPI2 connection. Other DBAPI2 objects are not tested. Please consider using SQLAlchemy.\n",
      "  df3 = pd.read_sql(\"SELECT * from v.parquet\", d)\n"
     ]
    }
   ],
   "source": [
    "df3 = pd.read_sql(\"SELECT * from v.parquet\", d)"
   ]
  },
  {
   "cell_type": "code",
   "execution_count": 36,
   "metadata": {
    "execution": {
     "iopub.execute_input": "2022-12-08T09:34:19.815787Z",
     "iopub.status.busy": "2022-12-08T09:34:19.815787Z",
     "iopub.status.idle": "2022-12-08T09:34:19.906912Z",
     "shell.execute_reply": "2022-12-08T09:34:19.906912Z",
     "shell.execute_reply.started": "2022-12-08T09:34:19.815787Z"
    },
    "tags": []
   },
   "outputs": [],
   "source": [
    "df.to_parquet('v.parquet')"
   ]
  },
  {
   "cell_type": "code",
   "execution_count": 37,
   "metadata": {
    "execution": {
     "iopub.execute_input": "2022-12-08T09:34:36.187234Z",
     "iopub.status.busy": "2022-12-08T09:34:36.187234Z",
     "iopub.status.idle": "2022-12-08T09:34:36.271021Z",
     "shell.execute_reply": "2022-12-08T09:34:36.271021Z",
     "shell.execute_reply.started": "2022-12-08T09:34:36.187234Z"
    }
   },
   "outputs": [],
   "source": [
    "df2 = pd.read_parquet('v.parquet')"
   ]
  },
  {
   "cell_type": "code",
   "execution_count": 38,
   "metadata": {
    "execution": {
     "iopub.execute_input": "2022-12-08T09:34:37.857828Z",
     "iopub.status.busy": "2022-12-08T09:34:37.857828Z",
     "iopub.status.idle": "2022-12-08T09:34:37.863806Z",
     "shell.execute_reply": "2022-12-08T09:34:37.863806Z",
     "shell.execute_reply.started": "2022-12-08T09:34:37.857828Z"
    }
   },
   "outputs": [
    {
     "data": {
      "text/html": [
       "<div>\n",
       "<style scoped>\n",
       "    .dataframe tbody tr th:only-of-type {\n",
       "        vertical-align: middle;\n",
       "    }\n",
       "\n",
       "    .dataframe tbody tr th {\n",
       "        vertical-align: top;\n",
       "    }\n",
       "\n",
       "    .dataframe thead th {\n",
       "        text-align: right;\n",
       "    }\n",
       "</style>\n",
       "<table border=\"1\" class=\"dataframe\">\n",
       "  <thead>\n",
       "    <tr style=\"text-align: right;\">\n",
       "      <th></th>\n",
       "      <th>Data</th>\n",
       "      <th>Value</th>\n",
       "    </tr>\n",
       "  </thead>\n",
       "  <tbody>\n",
       "    <tr>\n",
       "      <th>0</th>\n",
       "      <td>a</td>\n",
       "      <td>10</td>\n",
       "    </tr>\n",
       "    <tr>\n",
       "      <th>1</th>\n",
       "      <td>b</td>\n",
       "      <td>20</td>\n",
       "    </tr>\n",
       "    <tr>\n",
       "      <th>2</th>\n",
       "      <td>c</td>\n",
       "      <td>30</td>\n",
       "    </tr>\n",
       "    <tr>\n",
       "      <th>3</th>\n",
       "      <td>d</td>\n",
       "      <td>40</td>\n",
       "    </tr>\n",
       "  </tbody>\n",
       "</table>\n",
       "</div>"
      ],
      "text/plain": [
       "  Data  Value\n",
       "0    a     10\n",
       "1    b     20\n",
       "2    c     30\n",
       "3    d     40"
      ]
     },
     "execution_count": 38,
     "metadata": {},
     "output_type": "execute_result"
    }
   ],
   "source": [
    "df2"
   ]
  },
  {
   "cell_type": "code",
   "execution_count": 44,
   "metadata": {
    "execution": {
     "iopub.execute_input": "2022-12-08T10:01:56.401912Z",
     "iopub.status.busy": "2022-12-08T10:01:56.400914Z",
     "iopub.status.idle": "2022-12-08T10:01:56.404366Z",
     "shell.execute_reply": "2022-12-08T10:01:56.404366Z",
     "shell.execute_reply.started": "2022-12-08T10:01:56.401912Z"
    },
    "tags": []
   },
   "outputs": [],
   "source": [
    "import pyarrow as pa"
   ]
  },
  {
   "cell_type": "code",
   "execution_count": 45,
   "metadata": {
    "execution": {
     "iopub.execute_input": "2022-12-08T10:06:16.904813Z",
     "iopub.status.busy": "2022-12-08T10:06:16.904813Z",
     "iopub.status.idle": "2022-12-08T10:06:16.908153Z",
     "shell.execute_reply": "2022-12-08T10:06:16.908153Z",
     "shell.execute_reply.started": "2022-12-08T10:06:16.904813Z"
    }
   },
   "outputs": [
    {
     "data": {
      "text/plain": [
       "\"<class 'duckdb.DuckDBPyConnection'>\""
      ]
     },
     "execution_count": 45,
     "metadata": {},
     "output_type": "execute_result"
    }
   ],
   "source": [
    "str(type(d))"
   ]
  },
  {
   "cell_type": "code",
   "execution_count": null,
   "metadata": {},
   "outputs": [],
   "source": []
  }
 ],
 "metadata": {
  "kernelspec": {
   "display_name": "py311",
   "language": "python",
   "name": "py311"
  },
  "language_info": {
   "codemirror_mode": {
    "name": "ipython",
    "version": 3
   },
   "file_extension": ".py",
   "mimetype": "text/x-python",
   "name": "python",
   "nbconvert_exporter": "python",
   "pygments_lexer": "ipython3",
   "version": "3.11.0"
  }
 },
 "nbformat": 4,
 "nbformat_minor": 4
}
